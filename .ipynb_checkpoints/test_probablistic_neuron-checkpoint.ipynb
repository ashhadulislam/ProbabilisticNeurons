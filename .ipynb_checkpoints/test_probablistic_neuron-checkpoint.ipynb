{
 "cells": [
  {
   "cell_type": "code",
   "execution_count": 33,
   "metadata": {},
   "outputs": [],
   "source": [
    "import torch\n",
    "import torchvision\n",
    "import numpy as np\n",
    "import matplotlib\n",
    "import matplotlib.pyplot as plt\n",
    "import torch.nn as nn\n",
    "import torch.nn.functional as F\n",
    "from torchvision.datasets import MNIST\n",
    "from torchvision.transforms import ToTensor\n",
    "from torchvision.utils import make_grid\n",
    "from torch.utils.data.dataloader import DataLoader\n",
    "from torch.utils.data import random_split\n",
    "import pickle\n",
    "from copy import deepcopy\n",
    "from scipy import stats\n",
    "    \n",
    "from torchsummary import summary\n",
    "import math\n",
    "import random\n",
    "import pandas as pd\n",
    "\n",
    "from sklearn.model_selection import train_test_split"
   ]
  },
  {
   "cell_type": "code",
   "execution_count": null,
   "metadata": {},
   "outputs": [],
   "source": []
  },
  {
   "cell_type": "code",
   "execution_count": null,
   "metadata": {},
   "outputs": [],
   "source": []
  },
  {
   "cell_type": "code",
   "execution_count": 2,
   "metadata": {},
   "outputs": [],
   "source": [
    "def get_default_device():\n",
    "    \"\"\"Pick GPU if available, else CPU\"\"\"\n",
    "    if torch.cuda.is_available():\n",
    "        return torch.device('cuda')\n",
    "    else:\n",
    "        return torch.device('cpu')\n",
    "    \n",
    "def to_device(data, device):\n",
    "    \"\"\"Move tensor(s) to chosen device\"\"\"\n",
    "    if isinstance(data, (list,tuple)):\n",
    "        return [to_device(x, device) for x in data]\n",
    "    return data.to(device, non_blocking=True)\n",
    "\n",
    "\n",
    "\n",
    "class DeviceDataLoader():\n",
    "    \"\"\"Wrap a dataloader to move data to a device\"\"\"\n",
    "    def __init__(self, dl, device):\n",
    "        self.dl = dl\n",
    "        self.device = device\n",
    "        \n",
    "    def __iter__(self):\n",
    "        \"\"\"Yield a batch of data after moving it to device\"\"\"\n",
    "        for b in self.dl: \n",
    "            yield to_device(b, self.device)\n",
    "\n",
    "    def __len__(self):\n",
    "        \"\"\"Number of batches\"\"\"\n",
    "        return len(self.dl)\n"
   ]
  },
  {
   "cell_type": "code",
   "execution_count": 3,
   "metadata": {},
   "outputs": [],
   "source": [
    "def accuracy(outputs, labels):\n",
    "    _, preds = torch.max(outputs, dim=1)\n",
    "    return torch.tensor(torch.sum(preds == labels).item() / len(preds))        \n"
   ]
  },
  {
   "cell_type": "code",
   "execution_count": null,
   "metadata": {},
   "outputs": [],
   "source": []
  },
  {
   "cell_type": "code",
   "execution_count": 4,
   "metadata": {},
   "outputs": [
    {
     "name": "stdout",
     "output_type": "stream",
     "text": [
      "Program To train a base neuron for Pima\n",
      "Torch cuda  False\n",
      "device  cpu\n"
     ]
    }
   ],
   "source": [
    "print(\"Program To train a base neuron for Pima\")\n",
    "\n",
    "print(\"Torch cuda \",torch.cuda.is_available())\n",
    "\n",
    "\n",
    "device = get_default_device()\n",
    "print(\"device \",device)\n"
   ]
  },
  {
   "cell_type": "code",
   "execution_count": 5,
   "metadata": {},
   "outputs": [
    {
     "name": "stdout",
     "output_type": "stream",
     "text": [
      "   0    1   2   3    4     5      6   7  8\n",
      "0  6  148  72  35    0  33.6  0.627  50  1\n",
      "1  1   85  66  29    0  26.6  0.351  31  0\n",
      "2  8  183  64   0    0  23.3  0.672  32  1\n",
      "3  1   89  66  23   94  28.1  0.167  21  0\n",
      "4  0  137  40  35  168  43.1  2.288  33  1\n"
     ]
    }
   ],
   "source": [
    "df=pd.read_csv(\"pima-indians-diabetes.data.csv\",header=None)\n",
    "print(df.head())"
   ]
  },
  {
   "cell_type": "code",
   "execution_count": 6,
   "metadata": {},
   "outputs": [],
   "source": [
    "X=df.loc[:,:7].values\n",
    "y=df.loc[:,8].values"
   ]
  },
  {
   "cell_type": "code",
   "execution_count": 7,
   "metadata": {},
   "outputs": [
    {
     "data": {
      "text/plain": [
       "(768, 8)"
      ]
     },
     "execution_count": 7,
     "metadata": {},
     "output_type": "execute_result"
    }
   ],
   "source": [
    "X.shape"
   ]
  },
  {
   "cell_type": "code",
   "execution_count": 8,
   "metadata": {},
   "outputs": [
    {
     "data": {
      "text/plain": [
       "(768,)"
      ]
     },
     "execution_count": 8,
     "metadata": {},
     "output_type": "execute_result"
    }
   ],
   "source": [
    "y.shape"
   ]
  },
  {
   "cell_type": "code",
   "execution_count": 9,
   "metadata": {},
   "outputs": [],
   "source": [
    "\n",
    "X_train,X_test,y_train,y_test = train_test_split(X,y , test_size =0.2,random_state=0)\n",
    "\n"
   ]
  },
  {
   "cell_type": "code",
   "execution_count": 10,
   "metadata": {},
   "outputs": [],
   "source": [
    "# Creating Tensors\n",
    "X_train=torch.FloatTensor(X_train)\n",
    "X_test=torch.FloatTensor(X_test)\n",
    "y_train=torch.LongTensor(y_train)\n",
    "y_test=torch.LongTensor(y_test)"
   ]
  },
  {
   "cell_type": "markdown",
   "metadata": {},
   "source": [
    "### Below just to check if weights are working the way we think they are"
   ]
  },
  {
   "cell_type": "code",
   "execution_count": 11,
   "metadata": {},
   "outputs": [],
   "source": [
    "test_weight1=torch.FloatTensor(np.array([ 0.0445, -0.1208,  0.2645, -0.0978,  0.0318,  0.2220,  0.2510, -0.2588]))\n",
    "bias1=torch.tensor(-0.0446)\n",
    "test_weight2=torch.FloatTensor(np.array([-0.2218,  0.1974, -0.3320, -0.1531,  0.0914, -0.1960,  0.1685,  0.0053]))\n",
    "bias2=torch.tensor(-0.0413)"
   ]
  },
  {
   "cell_type": "code",
   "execution_count": 12,
   "metadata": {},
   "outputs": [
    {
     "name": "stdout",
     "output_type": "stream",
     "text": [
      "tensor(-2.0386)\n",
      "tensor(2.7002)\n"
     ]
    }
   ],
   "source": [
    "print(torch.matmul(X_train[0],test_weight1)+bias1)\n",
    "print(torch.matmul(X_train[0],test_weight2)+bias2)"
   ]
  },
  {
   "cell_type": "code",
   "execution_count": 13,
   "metadata": {},
   "outputs": [
    {
     "name": "stdout",
     "output_type": "stream",
     "text": [
      "tensor(2.7144)\n",
      "tensor(-10.5580)\n"
     ]
    }
   ],
   "source": [
    "print(torch.matmul(X_train[1],test_weight1)+bias1)\n",
    "print(torch.matmul(X_train[1],test_weight2)+bias2)"
   ]
  },
  {
   "cell_type": "markdown",
   "metadata": {},
   "source": [
    "### Above matches with the other notebok output"
   ]
  },
  {
   "cell_type": "code",
   "execution_count": 27,
   "metadata": {},
   "outputs": [
    {
     "name": "stdout",
     "output_type": "stream",
     "text": [
      "Initial acc is  tensor(0.3713)\n"
     ]
    }
   ],
   "source": [
    "initial_weights=torch.FloatTensor([[ 0.0435, -0.2281,  0.2225, -0.1205, -0.1896,  0.2002,  0.2506, -0.2820],\n",
    "        [-0.2208,  0.3048, -0.2900, -0.1304,  0.3128, -0.1742,  0.1689,  0.0285]])\n",
    "\n",
    "\n",
    "outs=torch.matmul(initial_weights,X_train.T)\n",
    "outs=outs.T\n",
    "initial_acc=accuracy(outs, y_train)\n",
    "\n",
    "print(\"Initial acc is \",initial_acc)"
   ]
  },
  {
   "cell_type": "code",
   "execution_count": 28,
   "metadata": {},
   "outputs": [
    {
     "data": {
      "text/plain": [
       "[-1]"
      ]
     },
     "execution_count": 28,
     "metadata": {},
     "output_type": "execute_result"
    }
   ],
   "source": [
    "random.choices([1,-1],weights=[0.01,0.99])"
   ]
  },
  {
   "cell_type": "code",
   "execution_count": 38,
   "metadata": {},
   "outputs": [
    {
     "name": "stdout",
     "output_type": "stream",
     "text": [
      "0 Accuracy is  tensor(0.3713)\n",
      "100 Accuracy is  tensor(0.3697)\n",
      "200 Accuracy is  tensor(0.3697)\n",
      "300 Accuracy is  tensor(0.4886)\n",
      "400 Accuracy is  tensor(0.4870)\n",
      "500 Accuracy is  tensor(0.4805)\n",
      "600 Accuracy is  tensor(0.5261)\n",
      "700 Accuracy is  tensor(0.5668)\n",
      "800 Accuracy is  tensor(0.5130)\n",
      "900 Accuracy is  tensor(0.5098)\n",
      "1000 Accuracy is  tensor(0.5147)\n",
      "1100 Accuracy is  tensor(0.5163)\n",
      "1200 Accuracy is  tensor(0.5505)\n",
      "1300 Accuracy is  tensor(0.5586)\n",
      "1400 Accuracy is  tensor(0.5782)\n",
      "1500 Accuracy is  tensor(0.5961)\n",
      "1600 Accuracy is  tensor(0.5928)\n",
      "1700 Accuracy is  tensor(0.5896)\n",
      "1800 Accuracy is  tensor(0.5586)\n",
      "1900 Accuracy is  tensor(0.5684)\n",
      "2000 Accuracy is  tensor(0.5733)\n",
      "2100 Accuracy is  tensor(0.5651)\n",
      "2200 Accuracy is  tensor(0.6189)\n",
      "2300 Accuracy is  tensor(0.5668)\n",
      "2400 Accuracy is  tensor(0.6629)\n",
      "2500 Accuracy is  tensor(0.5147)\n",
      "2600 Accuracy is  tensor(0.4528)\n",
      "2700 Accuracy is  tensor(0.3974)\n",
      "2800 Accuracy is  tensor(0.4186)\n",
      "2900 Accuracy is  tensor(0.4805)\n",
      "tensor([[ 0.2235, -0.6281,  1.6225, -0.8005, -0.4096,  0.5402,  0.7306,  0.5980],\n",
      "        [ 0.9392,  0.6048,  0.0300, -0.5704,  0.1128, -0.6142,  0.4689,  0.2285]])\n"
     ]
    }
   ],
   "source": [
    "num_weights=16\n",
    "counter=3000\n",
    "\n",
    "initial_probabs=[[0.5,0.5] for i in range(num_weights)]\n",
    "# print(\"for each wts initial probabs=\",initial_probabs)\n",
    "delta=0.01\n",
    "options=[1,-1]\n",
    "# changes=[]\n",
    "# for i in range(num_weights):\n",
    "#     this_wt_change=torch.tensor(random.choices(options,weights=initial_probabs[i],k=1))\n",
    "#     this_wt_change=this_wt_change*delta\n",
    "#     changes.append(this_wt_change)\n",
    "# changes=torch.FloatTensor(changes).reshape(initial_weights.shape)    \n",
    "# print(changes)\n",
    "# new_weights=initial_weights+changes\n",
    "\n",
    "new_weights=deepcopy(initial_weights)\n",
    "\n",
    "for count in range(counter):\n",
    "    outs=torch.matmul(new_weights,X_train.T)\n",
    "    outs=outs.T\n",
    "    acc=accuracy(outs, y_train)\n",
    "    changes=[]\n",
    "    for i in range(num_weights):        \n",
    "        this_wt_change=torch.tensor(random.choices(options,weights=initial_probabs[i],k=1))\n",
    "        this_wt_change=this_wt_change*delta\n",
    "        changes.append(this_wt_change)\n",
    "    changes=torch.FloatTensor(changes).reshape(initial_weights.shape)    \n",
    "    new_weights=new_weights+changes\n",
    "    if count%100==0:\n",
    "        print(count,\"Accuracy is \",acc)        \n",
    "#         print(new_weights)\n",
    "#     break\n",
    "    \n",
    "    \n",
    "print(new_weights)"
   ]
  },
  {
   "cell_type": "code",
   "execution_count": 43,
   "metadata": {},
   "outputs": [],
   "source": [
    "def probab_change(epsilon_change_probas,probab_pairs):\n",
    "    for i in range(len(probab_pairs)):\n",
    "        probab_pairs[i][0]=probab_pairs[i][0]+epsilon_change_probas[0]\n",
    "        probab_pairs[i][1]=probab_pairs[i][1]+epsilon_change_probas[1]\n",
    "    return probab_pairs"
   ]
  },
  {
   "cell_type": "code",
   "execution_count": 96,
   "metadata": {},
   "outputs": [],
   "source": [
    "def mod_weights_by_proba(options,old_weights,change_probabs,delta):\n",
    "#     print(\"delta=\",delta)\n",
    "    changes=[]\n",
    "    for i in range(torch.numel(old_weights)):        \n",
    "        this_wt_change=torch.tensor(random.choices(options,weights=pos_change_probabs[i],k=1))\n",
    "        this_wt_change=this_wt_change*delta\n",
    "        changes.append(this_wt_change)\n",
    "    changes=torch.FloatTensor(changes).reshape(old_weights.shape)    \n",
    "    change_weights=deepcopy(old_weights)+changes    \n",
    "    return change_weights"
   ]
  },
  {
   "cell_type": "code",
   "execution_count": null,
   "metadata": {},
   "outputs": [],
   "source": []
  },
  {
   "cell_type": "markdown",
   "metadata": {},
   "source": [
    "### Want to generate three sets of probabs"
   ]
  },
  {
   "cell_type": "code",
   "execution_count": null,
   "metadata": {},
   "outputs": [],
   "source": [
    "num_weights=16\n",
    "counter=16000\n",
    "epsilon_change_proba=0.01\n",
    "initial_probabs=[[0.5,0.5] for i in range(num_weights)]\n",
    "# print(\"for each wts initial probabs=\",initial_probabs)\n",
    "delta=0.1\n",
    "options=[1,-1]\n",
    "\n",
    "\n",
    "new_weights=deepcopy(initial_weights)\n",
    "best_so_far=-1\n",
    "best_weights_so_far=None\n",
    "for count in range(counter):\n",
    "#     print(\"Epoch:\",count)\n",
    "#     print(\"let us generate the three sets of probabilities\")\n",
    "    epsilon_change_probas=[+epsilon_change_proba,-epsilon_change_proba]\n",
    "    pos_change_probabs=probab_change(epsilon_change_probas,deepcopy(initial_probabs))\n",
    "#     print(new_weights)\n",
    "    pos_change_weights=mod_weights_by_proba(options,new_weights,pos_change_probabs,delta)\n",
    "#     print(\"pos change weights = \",pos_change_weights)\n",
    "    outs=torch.matmul(pos_change_weights,X_train.T)\n",
    "    outs=outs.T\n",
    "    acc_pos=accuracy(outs, y_train)\n",
    "    \n",
    "    \n",
    "    \n",
    "    epsilon_change_probas=[-epsilon_change_proba,+epsilon_change_proba]    \n",
    "    neg_change_probabs=probab_change(epsilon_change_probas,deepcopy(initial_probabs)) \n",
    "    neg_change_weights=mod_weights_by_proba(options,new_weights,neg_change_probabs,delta)\n",
    "#     print(\"neg change weights = \",neg_change_weights)\n",
    "    outs=torch.matmul(neg_change_weights,X_train.T)\n",
    "    outs=outs.T\n",
    "    acc_neg=accuracy(outs, y_train)\n",
    "    \n",
    "    \n",
    "    no_change_probabs=deepcopy(initial_probabs)\n",
    "    no_change_weights=mod_weights_by_proba(options,new_weights,no_change_probabs,delta)\n",
    "#     print(\"no change weights\",no_change_weights)\n",
    "    outs=torch.matmul(no_change_weights,X_train.T)\n",
    "    outs=outs.T\n",
    "    acc_none=accuracy(outs, y_train)\n",
    "    \n",
    "#     print(\"pos\\t0\\tneg\")\n",
    "#     print(acc_pos,acc_none,acc_neg)\n",
    "    best=-1\n",
    "    if acc_pos>=acc_none and acc_pos>=acc_neg:\n",
    "        best=acc_pos\n",
    "        initial_probabs=deepcopy(pos_change_probabs)\n",
    "        new_weights=deepcopy(pos_change_weights)\n",
    "    elif acc_neg>=acc_none and acc_neg>=acc_pos:\n",
    "        best=acc_neg\n",
    "        initial_probabs=deepcopy(neg_change_probabs)\n",
    "        new_weights=deepcopy(neg_change_weights)        \n",
    "    else:\n",
    "        best=acc_none\n",
    "        initial_probabs=deepcopy(no_change_probabs)\n",
    "        new_weights=deepcopy(no_change_weights)        \n",
    "    if best_so_far<best:\n",
    "        best_so_far=best\n",
    "        best_weights_so_far=deepcopy(new_weights)\n",
    "#     elif best_so_far>best:\n",
    "#         new_weights=deepcopy(best_weights_so_far)\n",
    "    if count%500==0:\n",
    "#         print(delta,count,best)\n",
    "#         delta=delta/2\n",
    "        epsilon_change_proba=epsilon_change_proba/2\n",
    "\n",
    "    \n",
    "print(\"best ever = \",best_so_far)\n",
    "    \n",
    "    \n",
    "    \n",
    "    \n",
    "    \n",
    "    \n",
    "    \n"
   ]
  },
  {
   "cell_type": "code",
   "execution_count": 25,
   "metadata": {},
   "outputs": [
    {
     "name": "stdout",
     "output_type": "stream",
     "text": [
      "0 Accuracy is  tensor(0.3762)\n",
      "100 Accuracy is  tensor(0.4593)\n",
      "200 Accuracy is  tensor(0.4609)\n",
      "300 Accuracy is  tensor(0.5130)\n",
      "400 Accuracy is  tensor(0.4218)\n",
      "500 Accuracy is  tensor(0.4642)\n",
      "600 Accuracy is  tensor(0.4544)\n",
      "700 Accuracy is  tensor(0.4153)\n",
      "800 Accuracy is  tensor(0.4104)\n",
      "900 Accuracy is  tensor(0.3599)\n",
      "1000 Accuracy is  tensor(0.3599)\n",
      "1100 Accuracy is  tensor(0.3616)\n",
      "1200 Accuracy is  tensor(0.3616)\n",
      "1300 Accuracy is  tensor(0.3599)\n",
      "1400 Accuracy is  tensor(0.5033)\n",
      "1500 Accuracy is  tensor(0.3599)\n",
      "1600 Accuracy is  tensor(0.3616)\n",
      "1700 Accuracy is  tensor(0.3599)\n",
      "1800 Accuracy is  tensor(0.3664)\n",
      "1900 Accuracy is  tensor(0.3632)\n",
      "2000 Accuracy is  tensor(0.3599)\n",
      "2100 Accuracy is  tensor(0.3941)\n",
      "2200 Accuracy is  tensor(0.3616)\n",
      "2300 Accuracy is  tensor(0.4577)\n",
      "2400 Accuracy is  tensor(0.3779)\n",
      "2500 Accuracy is  tensor(0.3599)\n",
      "2600 Accuracy is  tensor(0.3599)\n",
      "2700 Accuracy is  tensor(0.3599)\n",
      "2800 Accuracy is  tensor(0.3958)\n",
      "2900 Accuracy is  tensor(0.3795)\n"
     ]
    }
   ],
   "source": [
    "num_weights=16\n",
    "counter=3000\n",
    "\n",
    "initial_probabs=[[0.5,0.5] for i in range(num_weights)]\n",
    "# print(\"for each wts initial probabs=\",initial_probabs)\n",
    "delta=0.01\n",
    "options=[1,-1]\n",
    "for i in range(num_weights):\n",
    "#     print(initial_probabs[i])\n",
    "#     print(len(initial_probabs[i]))\n",
    "    changes=torch.tensor(random.choices(options,weights=initial_probabs[i],k=16))\n",
    "    changes=changes*delta\n",
    "changes=torch.FloatTensor(changes).reshape(initial_weights.shape)    \n",
    "new_weights=initial_weights+changes\n",
    "\n",
    "for count in range(counter):\n",
    "    outs=torch.matmul(new_weights,X_train.T)\n",
    "    outs=outs.T\n",
    "    acc=accuracy(outs, y_train)\n",
    "    \n",
    "    for i in range(num_weights):        \n",
    "        changes=torch.tensor(random.choices(options,weights=initial_probabs[i],k=16))\n",
    "        changes=changes*delta\n",
    "    changes=torch.FloatTensor(changes).reshape(initial_weights.shape)    \n",
    "    new_weights=new_weights+changes\n",
    "    if count%100==0:\n",
    "        print(count,\"Accuracy is \",acc)        \n",
    "#         print(new_weights)\n",
    "#     break\n",
    "    "
   ]
  },
  {
   "cell_type": "markdown",
   "metadata": {},
   "source": [
    "### add some method"
   ]
  },
  {
   "cell_type": "code",
   "execution_count": 34,
   "metadata": {},
   "outputs": [],
   "source": [
    "def move_in_same_direction(initial_probabs,epsilon_prob,changes):\n",
    "    for i in range(len(initial_probabs)):\n",
    "        if initial_probabs[i][0]>initial_probabs[i][1]:\n",
    "            initial_probabs[i][0]+=epsilon_prob\n",
    "            initial_probabs[i][1]-=epsilon_prob            \n",
    "        else:\n",
    "            initial_probabs[i][0]-=epsilon_prob\n",
    "            initial_probabs[i][1]+=epsilon_prob    \n",
    "    return initial_probabs            \n",
    "            \n",
    "def move_in_opp_direction(initial_probabs,epsilon_prob):\n",
    "    for i in range(len(initial_probabs)):\n",
    "        if initial_probabs[i][0]>initial_probabs[i][1]:\n",
    "            initial_probabs[i][0]-=epsilon_prob\n",
    "            initial_probabs[i][1]+=epsilon_prob            \n",
    "        else:\n",
    "            initial_probabs[i][0]+=epsilon_prob\n",
    "            initial_probabs[i][1]-=epsilon_prob            \n",
    "    return initial_probabs\n",
    "        "
   ]
  },
  {
   "cell_type": "code",
   "execution_count": 35,
   "metadata": {},
   "outputs": [
    {
     "name": "stdout",
     "output_type": "stream",
     "text": [
      "Initial acc is  tensor(0.3713)\n"
     ]
    }
   ],
   "source": [
    "initial_weights=torch.FloatTensor([[ 0.0435, -0.2281,  0.2225, -0.1205, -0.1896,  0.2002,  0.2506, -0.2820],\n",
    "        [-0.2208,  0.3048, -0.2900, -0.1304,  0.3128, -0.1742,  0.1689,  0.0285]])\n",
    "\n",
    "\n",
    "outs=torch.matmul(initial_weights,X_train.T)\n",
    "outs=outs.T\n",
    "initial_acc=accuracy(outs, y_train)\n",
    "\n",
    "print(\"Initial acc is \",initial_acc)"
   ]
  },
  {
   "cell_type": "code",
   "execution_count": 67,
   "metadata": {
    "scrolled": true
   },
   "outputs": [
    {
     "name": "stdout",
     "output_type": "stream",
     "text": [
      "initial_weights= tensor([[ 0.0435, -0.2281,  0.2225, -0.1205, -0.1896,  0.2002,  0.2506, -0.2820],\n",
      "        [-0.2208,  0.3048, -0.2900, -0.1304,  0.3128, -0.1742,  0.1689,  0.0285]])\n",
      "Initial acc is  tensor(0.3713)\n",
      "for each wts initial probabs= [[0.33, 0.34, 0.33], [0.33, 0.34, 0.33], [0.33, 0.34, 0.33], [0.33, 0.34, 0.33], [0.33, 0.34, 0.33], [0.33, 0.34, 0.33], [0.33, 0.34, 0.33], [0.33, 0.34, 0.33], [0.33, 0.34, 0.33], [0.33, 0.34, 0.33], [0.33, 0.34, 0.33], [0.33, 0.34, 0.33], [0.33, 0.34, 0.33], [0.33, 0.34, 0.33], [0.33, 0.34, 0.33], [0.33, 0.34, 0.33]]\n",
      "changes tensor([[-1.,  0.,  0.,  0.,  1., -1., -1., -1.],\n",
      "        [-1.,  1.,  1.,  1.,  1.,  0.,  0.,  1.]])\n",
      "delta_changes tensor([[-0.0010,  0.0000,  0.0000,  0.0000,  0.0010, -0.0010, -0.0010, -0.0010],\n",
      "        [-0.0010,  0.0010,  0.0010,  0.0010,  0.0010,  0.0000,  0.0000,  0.0010]])\n",
      "Changed wt =  tensor([[ 0.0425, -0.2281,  0.2225, -0.1205, -0.1886,  0.1992,  0.2496, -0.2830],\n",
      "        [-0.2218,  0.3058, -0.2890, -0.1294,  0.3138, -0.1742,  0.1689,  0.0295]])\n",
      "0.01 0.001 100000 Running all epochs here\n",
      "0.01 0.001 Training Acc # 0 is  tensor(0.3730) Val Acc is  tensor(0.3442)\n",
      "0.01 0.001 Training Acc # 1000 is  tensor(0.4169) Val Acc is  tensor(0.4091)\n",
      "0.01 0.001 Training Acc # 2000 is  tensor(0.6270) Val Acc is  tensor(0.6948)\n",
      "0.01 0.001 Training Acc # 3000 is  tensor(0.6384) Val Acc is  tensor(0.6818)\n",
      "0.01 0.001 Training Acc # 4000 is  tensor(0.6384) Val Acc is  tensor(0.6883)\n",
      "0.01 0.001 Training Acc # 5000 is  tensor(0.6384) Val Acc is  tensor(0.6948)\n",
      "0.01 0.001 Training Acc # 6000 is  tensor(0.6336) Val Acc is  tensor(0.6883)\n",
      "0.01 0.001 Training Acc # 7000 is  tensor(0.6238) Val Acc is  tensor(0.6753)\n",
      "0.01 0.001 Training Acc # 8000 is  tensor(0.6336) Val Acc is  tensor(0.6818)\n",
      "0.01 0.001 Training Acc # 9000 is  tensor(0.6336) Val Acc is  tensor(0.7143)\n",
      "0.01 0.001 Training Acc # 10000 is  tensor(0.6368) Val Acc is  tensor(0.7078)\n",
      "0.01 0.001 Training Acc # 11000 is  tensor(0.6515) Val Acc is  tensor(0.7143)\n",
      "0.01 0.001 Training Acc # 12000 is  tensor(0.6401) Val Acc is  tensor(0.7078)\n",
      "0.01 0.001 Training Acc # 13000 is  tensor(0.6417) Val Acc is  tensor(0.7013)\n",
      "0.01 0.001 Training Acc # 14000 is  tensor(0.6401) Val Acc is  tensor(0.7013)\n",
      "0.01 0.001 Training Acc # 15000 is  tensor(0.6450) Val Acc is  tensor(0.7078)\n",
      "0.01 0.001 Training Acc # 16000 is  tensor(0.6450) Val Acc is  tensor(0.7013)\n",
      "0.01 0.001 Training Acc # 17000 is  tensor(0.6531) Val Acc is  tensor(0.7078)\n",
      "0.01 0.001 Training Acc # 18000 is  tensor(0.6580) Val Acc is  tensor(0.7078)\n",
      "0.01 0.001 Training Acc # 19000 is  tensor(0.6515) Val Acc is  tensor(0.7013)\n",
      "0.01 0.001 Training Acc # 20000 is  tensor(0.6466) Val Acc is  tensor(0.7013)\n",
      "0.01 0.001 Training Acc # 21000 is  tensor(0.6515) Val Acc is  tensor(0.7078)\n",
      "0.01 0.001 Training Acc # 22000 is  tensor(0.6433) Val Acc is  tensor(0.7013)\n",
      "0.01 0.001 Training Acc # 23000 is  tensor(0.6515) Val Acc is  tensor(0.7013)\n",
      "0.01 0.001 Training Acc # 24000 is  tensor(0.6498) Val Acc is  tensor(0.7013)\n",
      "0.01 0.001 Training Acc # 25000 is  tensor(0.6498) Val Acc is  tensor(0.6948)\n",
      "0.01 0.001 Training Acc # 26000 is  tensor(0.6547) Val Acc is  tensor(0.7013)\n",
      "0.01 0.001 Training Acc # 27000 is  tensor(0.6547) Val Acc is  tensor(0.7078)\n",
      "0.01 0.001 Training Acc # 28000 is  tensor(0.6450) Val Acc is  tensor(0.7013)\n",
      "0.01 0.001 Training Acc # 29000 is  tensor(0.6352) Val Acc is  tensor(0.6948)\n",
      "0.01 0.001 Training Acc # 30000 is  tensor(0.6433) Val Acc is  tensor(0.7013)\n",
      "0.01 0.001 Training Acc # 31000 is  tensor(0.6515) Val Acc is  tensor(0.7013)\n",
      "0.01 0.001 Training Acc # 32000 is  tensor(0.6498) Val Acc is  tensor(0.7078)\n",
      "0.01 0.001 Training Acc # 33000 is  tensor(0.6515) Val Acc is  tensor(0.7078)\n",
      "0.01 0.001 Training Acc # 34000 is  tensor(0.6450) Val Acc is  tensor(0.6883)\n",
      "0.01 0.001 Training Acc # 35000 is  tensor(0.6482) Val Acc is  tensor(0.7078)\n",
      "0.01 0.001 Training Acc # 36000 is  tensor(0.6498) Val Acc is  tensor(0.7013)\n",
      "0.01 0.001 Training Acc # 37000 is  tensor(0.6450) Val Acc is  tensor(0.7013)\n",
      "0.01 0.001 Training Acc # 38000 is  tensor(0.6498) Val Acc is  tensor(0.6948)\n",
      "0.01 0.001 Training Acc # 39000 is  tensor(0.6547) Val Acc is  tensor(0.7143)\n",
      "0.01 0.001 Training Acc # 40000 is  tensor(0.6629) Val Acc is  tensor(0.7078)\n",
      "0.01 0.001 Training Acc # 41000 is  tensor(0.6645) Val Acc is  tensor(0.7078)\n",
      "0.01 0.001 Training Acc # 42000 is  tensor(0.6433) Val Acc is  tensor(0.6883)\n",
      "0.01 0.001 Training Acc # 43000 is  tensor(0.6547) Val Acc is  tensor(0.7013)\n",
      "0.01 0.001 Training Acc # 44000 is  tensor(0.6547) Val Acc is  tensor(0.7013)\n",
      "0.01 0.001 Training Acc # 45000 is  tensor(0.6531) Val Acc is  tensor(0.7013)\n",
      "0.01 0.001 Training Acc # 46000 is  tensor(0.6547) Val Acc is  tensor(0.7013)\n",
      "0.01 0.001 Training Acc # 47000 is  tensor(0.6564) Val Acc is  tensor(0.7078)\n",
      "0.01 0.001 Training Acc # 48000 is  tensor(0.6547) Val Acc is  tensor(0.7013)\n",
      "0.01 0.001 Training Acc # 49000 is  tensor(0.6401) Val Acc is  tensor(0.6948)\n",
      "0.01 0.001 Training Acc # 50000 is  tensor(0.6661) Val Acc is  tensor(0.7143)\n",
      "0.01 0.001 Training Acc # 51000 is  tensor(0.6645) Val Acc is  tensor(0.7078)\n",
      "0.01 0.001 Training Acc # 52000 is  tensor(0.6580) Val Acc is  tensor(0.6948)\n",
      "0.01 0.001 Training Acc # 53000 is  tensor(0.6547) Val Acc is  tensor(0.6948)\n",
      "0.01 0.001 Training Acc # 54000 is  tensor(0.6629) Val Acc is  tensor(0.7013)\n",
      "0.01 0.001 Training Acc # 55000 is  tensor(0.6564) Val Acc is  tensor(0.7013)\n",
      "0.01 0.001 Training Acc # 56000 is  tensor(0.6433) Val Acc is  tensor(0.6883)\n",
      "0.01 0.001 Training Acc # 57000 is  tensor(0.6612) Val Acc is  tensor(0.6883)\n",
      "0.01 0.001 Training Acc # 58000 is  tensor(0.6580) Val Acc is  tensor(0.6948)\n",
      "0.01 0.001 Training Acc # 59000 is  tensor(0.6580) Val Acc is  tensor(0.6948)\n",
      "0.01 0.001 Training Acc # 60000 is  tensor(0.6612) Val Acc is  tensor(0.6948)\n",
      "0.01 0.001 Training Acc # 61000 is  tensor(0.6352) Val Acc is  tensor(0.6818)\n",
      "0.01 0.001 Training Acc # 62000 is  tensor(0.6140) Val Acc is  tensor(0.6558)\n",
      "0.01 0.001 Training Acc # 63000 is  tensor(0.6352) Val Acc is  tensor(0.6818)\n",
      "0.01 0.001 Training Acc # 64000 is  tensor(0.6384) Val Acc is  tensor(0.6753)\n",
      "0.01 0.001 Training Acc # 65000 is  tensor(0.6596) Val Acc is  tensor(0.7078)\n",
      "0.01 0.001 Training Acc # 66000 is  tensor(0.6661) Val Acc is  tensor(0.7078)\n",
      "0.01 0.001 Training Acc # 67000 is  tensor(0.6678) Val Acc is  tensor(0.7078)\n",
      "0.01 0.001 Training Acc # 68000 is  tensor(0.6645) Val Acc is  tensor(0.7208)\n",
      "0.01 0.001 Training Acc # 69000 is  tensor(0.6710) Val Acc is  tensor(0.7078)\n",
      "0.01 0.001 Training Acc # 70000 is  tensor(0.6596) Val Acc is  tensor(0.7208)\n",
      "0.01 0.001 Training Acc # 71000 is  tensor(0.6857) Val Acc is  tensor(0.6494)\n",
      "0.01 0.001 Training Acc # 72000 is  tensor(0.6792) Val Acc is  tensor(0.6753)\n",
      "0.01 0.001 Training Acc # 73000 is  tensor(0.6792) Val Acc is  tensor(0.6623)\n",
      "0.01 0.001 Training Acc # 74000 is  tensor(0.6792) Val Acc is  tensor(0.6688)\n",
      "0.01 0.001 Training Acc # 75000 is  tensor(0.6792) Val Acc is  tensor(0.6429)\n",
      "0.01 0.001 Training Acc # 76000 is  tensor(0.6824) Val Acc is  tensor(0.6818)\n",
      "0.01 0.001 Training Acc # 77000 is  tensor(0.6840) Val Acc is  tensor(0.6623)\n",
      "0.01 0.001 Training Acc # 78000 is  tensor(0.6694) Val Acc is  tensor(0.6688)\n",
      "0.01 0.001 Training Acc # 79000 is  tensor(0.6808) Val Acc is  tensor(0.6688)\n",
      "0.01 0.001 Training Acc # 80000 is  tensor(0.6808) Val Acc is  tensor(0.6818)\n",
      "0.01 0.001 Training Acc # 81000 is  tensor(0.6775) Val Acc is  tensor(0.6558)\n",
      "0.01 0.001 Training Acc # 82000 is  tensor(0.6792) Val Acc is  tensor(0.6753)\n",
      "0.01 0.001 Training Acc # 83000 is  tensor(0.6808) Val Acc is  tensor(0.6558)\n",
      "0.01 0.001 Training Acc # 84000 is  tensor(0.6808) Val Acc is  tensor(0.6688)\n",
      "0.01 0.001 Training Acc # 85000 is  tensor(0.6840) Val Acc is  tensor(0.6688)\n",
      "0.01 0.001 Training Acc # 86000 is  tensor(0.6873) Val Acc is  tensor(0.6753)\n",
      "0.01 0.001 Training Acc # 87000 is  tensor(0.6840) Val Acc is  tensor(0.6558)\n",
      "0.01 0.001 Training Acc # 88000 is  tensor(0.6824) Val Acc is  tensor(0.6364)\n",
      "0.01 0.001 Training Acc # 89000 is  tensor(0.6808) Val Acc is  tensor(0.6623)\n",
      "0.01 0.001 Training Acc # 90000 is  tensor(0.6824) Val Acc is  tensor(0.6558)\n",
      "0.01 0.001 Training Acc # 91000 is  tensor(0.6938) Val Acc is  tensor(0.6429)\n"
     ]
    },
    {
     "name": "stdout",
     "output_type": "stream",
     "text": [
      "0.01 0.001 Training Acc # 92000 is  tensor(0.6775) Val Acc is  tensor(0.6818)\n",
      "0.01 0.001 Training Acc # 93000 is  tensor(0.6792) Val Acc is  tensor(0.6688)\n",
      "0.01 0.001 Training Acc # 94000 is  tensor(0.6906) Val Acc is  tensor(0.6558)\n",
      "0.01 0.001 Training Acc # 95000 is  tensor(0.6840) Val Acc is  tensor(0.6558)\n",
      "0.01 0.001 Training Acc # 96000 is  tensor(0.6840) Val Acc is  tensor(0.6688)\n",
      "0.01 0.001 Training Acc # 97000 is  tensor(0.6906) Val Acc is  tensor(0.6623)\n",
      "0.01 0.001 Training Acc # 98000 is  tensor(0.6938) Val Acc is  tensor(0.6688)\n",
      "0.01 0.001 Training Acc # 99000 is  tensor(0.6840) Val Acc is  tensor(0.6558)\n",
      "probabs= [[0.3666666666666669, 0.3216666666666669, 0.31166666666666687], [0.2866666666666664, 0.36166666666666647, 0.35166666666666646], [0.31999999999999995, 0.345, 0.33499999999999996], [0.35666666666666685, 0.3266666666666668, 0.3166666666666668], [0.39333333333333376, 0.3083333333333337, 0.2983333333333337], [0.38666666666666705, 0.311666666666667, 0.30166666666666697], [0.3533333333333335, 0.3283333333333335, 0.31833333333333347], [0.2933333333333331, 0.35833333333333317, 0.34833333333333316], [0.33, 0.34, 0.33], [0.38666666666666705, 0.311666666666667, 0.30166666666666697], [0.35000000000000014, 0.3300000000000001, 0.3200000000000001], [0.34333333333333343, 0.3333333333333334, 0.3233333333333334], [0.28999999999999976, 0.3599999999999998, 0.3499999999999998], [0.39333333333333376, 0.3083333333333337, 0.2983333333333337], [0.43666666666666737, 0.28666666666666724, 0.2766666666666672], [0.28999999999999976, 0.3599999999999998, 0.3499999999999998]]\n",
      "Best Accuracy at the end  tensor(0.7403)\n",
      "Best weights tensor([[ 0.3845, -0.3441,  0.8365, -0.2875,  0.0424,  0.4332,  0.2396, -0.2300],\n",
      "        [ 0.2612,  0.4218, -0.6940,  0.1666,  0.1018, -0.4792, -0.0601, -0.1065]])\n",
      "Best epoch 66710\n",
      "Final proba =  [[0.3666666666666669, 0.3216666666666669, 0.31166666666666687], [0.2866666666666664, 0.36166666666666647, 0.35166666666666646], [0.31999999999999995, 0.345, 0.33499999999999996], [0.35666666666666685, 0.3266666666666668, 0.3166666666666668], [0.39333333333333376, 0.3083333333333337, 0.2983333333333337], [0.38666666666666705, 0.311666666666667, 0.30166666666666697], [0.3533333333333335, 0.3283333333333335, 0.31833333333333347], [0.2933333333333331, 0.35833333333333317, 0.34833333333333316], [0.33, 0.34, 0.33], [0.38666666666666705, 0.311666666666667, 0.30166666666666697], [0.35000000000000014, 0.3300000000000001, 0.3200000000000001], [0.34333333333333343, 0.3333333333333334, 0.3233333333333334], [0.28999999999999976, 0.3599999999999998, 0.3499999999999998], [0.39333333333333376, 0.3083333333333337, 0.2983333333333337], [0.43666666666666737, 0.28666666666666724, 0.2766666666666672], [0.28999999999999976, 0.3599999999999998, 0.3499999999999998]]\n"
     ]
    },
    {
     "data": {
      "text/plain": [
       "[<matplotlib.lines.Line2D at 0x155469116b20>]"
      ]
     },
     "execution_count": 67,
     "metadata": {},
     "output_type": "execute_result"
    },
    {
     "data": {
      "image/png": "[encoded data removed]",
      "text/plain": [
       "<Figure size 432x288 with 1 Axes>"
      ]
     },
     "metadata": {
      "needs_background": "light"
     },
     "output_type": "display_data"
    }
   ],
   "source": [
    "num_weights=16\n",
    "\n",
    "\n",
    "\n",
    "\n",
    "\n",
    "epsilon_prob=0.01\n",
    "delta=0.001\n",
    "epochs=100000\n",
    "\n",
    "\n",
    "initial_weights=torch.FloatTensor([[ 0.0435, -0.2281,  0.2225, -0.1205, -0.1896,  0.2002,  0.2506, -0.2820],\n",
    "        [-0.2208,  0.3048, -0.2900, -0.1304,  0.3128, -0.1742,  0.1689,  0.0285]])\n",
    "\n",
    "print(\"initial_weights=\",initial_weights)\n",
    "outs=torch.matmul(initial_weights,X_train.T)\n",
    "outs=outs.T\n",
    "initial_acc=accuracy(outs, y_train)\n",
    "\n",
    "print(\"Initial acc is \",initial_acc)\n",
    "\n",
    "options=[1,0,-1]\n",
    "initial_probabs=[[0.33,0.34,0.33] for i in range(num_weights)]\n",
    "# for i in range(num_weights):\n",
    "#     num=random.uniform(0.1,1)\n",
    "#     initial_probabs.append([num,1-num])\n",
    "\n",
    "print(\"for each wts initial probabs=\",initial_probabs)\n",
    "\n",
    "# epsilon_prob=random.uniform(0.01,np.min(np.array(initial_probabs)))\n",
    "# print(\"epsilon_prob=\",epsilon_prob)\n",
    "changes=[]\n",
    "for i in range(num_weights):\n",
    "    choice=random.choices(options,weights=initial_probabs[i],k=1)[0]\n",
    "    changes.append(choice)    \n",
    "    \n",
    "changes=torch.FloatTensor(changes).reshape(initial_weights.shape)    \n",
    "print(\"changes\",changes)\n",
    "delta_changes=changes*delta\n",
    "print(\"delta_changes\",delta_changes)\n",
    "new_weights=initial_weights+delta_changes\n",
    "print(\"Changed wt = \",new_weights)\n",
    "print(epsilon_prob,delta,epochs,\"Running all epochs here\")\n",
    "best_acc=-1\n",
    "best_acc_weights=None\n",
    "best_epoch=0\n",
    "history=[]\n",
    "for count in range(epochs):\n",
    "#     #calc training acc\n",
    "    outs=torch.matmul(new_weights,X_train.T)\n",
    "    outs=outs.T\n",
    "    acc=accuracy(outs, y_train)\n",
    "\n",
    "#     #calc val acc\n",
    "    outs_val=torch.matmul(new_weights,X_test.T)\n",
    "    outs_val=outs_val.T\n",
    "    acc_val=accuracy(outs_val, y_test)\n",
    "    if best_acc<acc_val:\n",
    "        best_acc=acc_val\n",
    "        best_acc_weights=new_weights\n",
    "        best_epoch=count\n",
    "\n",
    "    if count%1000==0:                \n",
    "        print(epsilon_prob,delta,\"Training Acc #\",count,\"is \",acc,\"Val Acc is \",acc_val)\n",
    "\n",
    "    if acc>initial_acc:\n",
    "#         keep going in the same direction\n",
    "#         print(\"improved\")\n",
    "#         print(\"changes\",changes)\n",
    "#         print(\"initial_probabs\",initial_probabs)\n",
    "        for i in range(len(changes)):\n",
    "            for j in range(len(changes[i])):\n",
    "                indx=i*len(changes[i])+j\n",
    "                if changes[i][j]==1:\n",
    "                    initial_probabs[indx][0]+=epsilon_prob/3\n",
    "                    initial_probabs[indx][1]-=epsilon_prob/6\n",
    "                    initial_probabs[indx][2]-=epsilon_prob/6                    \n",
    "                elif changes[i][j]==-1:\n",
    "                    initial_probabs[indx][0]-=epsilon_prob/3\n",
    "                    initial_probabs[indx][1]+=epsilon_prob/6\n",
    "                    initial_probabs[indx][2]+=epsilon_prob/6\n",
    "#                 elif changes[i][j]==0:\n",
    "#                     initial_probabs[indx][0]+=epsilon_prob/3\n",
    "#                     initial_probabs[indx][1]+=epsilon_prob/3\n",
    "#                     initial_probabs[indx][2]+=epsilon_prob/3 \n",
    "#         initial_probabs=move_in_same_direction(initial_probabs,epsilon_prob,changes)\n",
    "    elif acc<initial_acc:\n",
    "#         print(\"less\")\n",
    "#         print(\"changes\",changes)\n",
    "#         print(\"initial_probabs\",initial_probabs)\n",
    "        for i in range(len(changes)):\n",
    "            for j in range(len(changes[i])):\n",
    "                indx=i*len(changes[i])+j\n",
    "                if changes[i][j]==1:\n",
    "                    initial_probabs[indx][0]-=epsilon_prob/3\n",
    "                    initial_probabs[indx][1]+=epsilon_prob/6\n",
    "                    initial_probabs[indx][2]+=epsilon_prob/6\n",
    "                    changes[i][j]=-1\n",
    "                elif changes[i][j]==-1:\n",
    "                    initial_probabs[indx][0]+=epsilon_prob/3\n",
    "                    initial_probabs[indx][1]-=epsilon_prob/6\n",
    "                    initial_probabs[indx][2]-=epsilon_prob/6                    \n",
    "                    changes[i][j]=1\n",
    "#                 elif changes[i][j]==0:\n",
    "#                     initial_probabs[indx][0]+=epsilon_prob/3\n",
    "#                     initial_probabs[indx][1]+=epsilon_prob/3\n",
    "#                     initial_probabs[indx][2]+=epsilon_prob/3 \n",
    "                    \n",
    "#         initial_probabs=move_in_opp_direction(initial_probabs,epsilon_prob)\n",
    "    elif acc==initial_acc:\n",
    "#         print(\"No change\")\n",
    "        for i in range(len(changes)):\n",
    "            for j in range(len(changes[i])):\n",
    "                indx=i*len(changes[i])+j\n",
    "                if changes[i][j]==1:\n",
    "                    initial_probabs[indx][0]-=epsilon_prob/3\n",
    "                    initial_probabs[indx][1]+=epsilon_prob/6\n",
    "                    initial_probabs[indx][2]+=epsilon_prob/6\n",
    "                    changes[i][j]=-1\n",
    "                elif changes[i][j]==-1:\n",
    "                    initial_probabs[indx][0]+=epsilon_prob/3\n",
    "                    initial_probabs[indx][1]-=epsilon_prob/6\n",
    "                    initial_probabs[indx][2]-=epsilon_prob/6                    \n",
    "                    changes[i][j]=1\n",
    "# #         print(\"No change in accuracy\")\n",
    "    history.append(acc_val)\n",
    "#     print(\"changed probab = \",initial_probabs)\n",
    "    changes=[]\n",
    "    for i in range(num_weights):\n",
    "        choice=random.choices(options,weights=initial_probabs[i],k=1)[0]\n",
    "        changes.append(choice)           \n",
    "    changes=torch.FloatTensor(changes).reshape(initial_weights.shape)          \n",
    "    delta_changes=changes*delta\n",
    "    new_weights=new_weights+delta_changes\n",
    "#     new_weights=new_weights+changes\n",
    "    initial_acc=acc\n",
    "\n",
    "\n",
    "# #             # end of all epochs\n",
    "# #             # add to results\n",
    "\n",
    "\n",
    "print(\"probabs=\",initial_probabs)\n",
    "# # print(\"changes=\",changes)\n",
    "print(\"Best Accuracy at the end \",best_acc)            \n",
    "print(\"Best weights\",best_acc_weights)\n",
    "print(\"Best epoch\",best_epoch)\n",
    "print(\"Final proba = \",initial_probabs)\n",
    "\n",
    "plt.plot(history)\n"
   ]
  },
  {
   "cell_type": "code",
   "execution_count": 74,
   "metadata": {},
   "outputs": [
    {
     "name": "stdout",
     "output_type": "stream",
     "text": [
      "initial_weights= tensor([[ 0.0435, -0.2281,  0.2225, -0.1205, -0.1896,  0.2002,  0.2506, -0.2820],\n",
      "        [-0.2208,  0.3048, -0.2900, -0.1304,  0.3128, -0.1742,  0.1689,  0.0285]])\n",
      "Initial acc is  tensor(0.3713)\n",
      "for each wts initial probabs= [[0.33, 0.34, 0.33], [0.33, 0.34, 0.33], [0.33, 0.34, 0.33], [0.33, 0.34, 0.33], [0.33, 0.34, 0.33], [0.33, 0.34, 0.33], [0.33, 0.34, 0.33], [0.33, 0.34, 0.33], [0.33, 0.34, 0.33], [0.33, 0.34, 0.33], [0.33, 0.34, 0.33], [0.33, 0.34, 0.33], [0.33, 0.34, 0.33], [0.33, 0.34, 0.33], [0.33, 0.34, 0.33], [0.33, 0.34, 0.33]]\n",
      "changes tensor([[ 1.,  0.,  0.,  0., -1., -1.,  0.,  1.],\n",
      "        [ 0., -1., -1.,  0., -1.,  0.,  0.,  1.]])\n",
      "delta_changes tensor([[ 0.1000,  0.0000,  0.0000,  0.0000, -0.1000, -0.1000,  0.0000,  0.1000],\n",
      "        [ 0.0000, -0.1000, -0.1000,  0.0000, -0.1000,  0.0000,  0.0000,  0.1000]])\n",
      "Changed wt =  tensor([[ 0.1435, -0.2281,  0.2225, -0.1205, -0.2896,  0.1002,  0.2506, -0.1820],\n",
      "        [-0.2208,  0.2048, -0.3900, -0.1304,  0.2128, -0.1742,  0.1689,  0.1285]])\n",
      "0.1 0.1 100000 Running all epochs here\n",
      "Best Accuracy at the end  tensor(0.7143)\n",
      "probabs= [[0.19666666666666677, 0.4066666666666667, 0.39666666666666667], [0.43000000000000005, 0.29000000000000004, 0.28], [0.53, 0.24000000000000005, 0.23000000000000004], [0.3633333333333334, 0.3233333333333334, 0.31333333333333335], [0.19666666666666677, 0.4066666666666667, 0.39666666666666667], [0.43000000000000005, 0.29000000000000004, 0.28], [0.33000000000000007, 0.34, 0.33], [0.2633333333333334, 0.37333333333333335, 0.36333333333333334], [0.3633333333333334, 0.32333333333333336, 0.31333333333333335], [0.3633333333333334, 0.32333333333333336, 0.31333333333333335], [0.33000000000000007, 0.3400000000000001, 0.33], [0.3966666666666667, 0.3066666666666667, 0.2966666666666667], [0.43000000000000005, 0.29000000000000004, 0.28], [0.4966666666666667, 0.2566666666666667, 0.2466666666666667], [0.3633333333333334, 0.3233333333333334, 0.31333333333333335], [0.29666666666666675, 0.3566666666666667, 0.3466666666666667]]\n",
      "changes= tensor([[ 0.,  1., -1., -1.,  0.,  1.,  0.,  0.],\n",
      "        [ 1.,  0.,  0., -1.,  0.,  1., -1.,  0.]])\n"
     ]
    },
    {
     "data": {
      "image/png": "[encoded data removed]",
      "text/plain": [
       "<Figure size 432x288 with 1 Axes>"
      ]
     },
     "metadata": {
      "needs_background": "light"
     },
     "output_type": "display_data"
    },
    {
     "name": "stdout",
     "output_type": "stream",
     "text": [
      "********************\n",
      "initial_weights= tensor([[ 0.0435, -0.2281,  0.2225, -0.1205, -0.1896,  0.2002,  0.2506, -0.2820],\n",
      "        [-0.2208,  0.3048, -0.2900, -0.1304,  0.3128, -0.1742,  0.1689,  0.0285]])\n",
      "Initial acc is  tensor(0.3713)\n",
      "for each wts initial probabs= [[0.33, 0.34, 0.33], [0.33, 0.34, 0.33], [0.33, 0.34, 0.33], [0.33, 0.34, 0.33], [0.33, 0.34, 0.33], [0.33, 0.34, 0.33], [0.33, 0.34, 0.33], [0.33, 0.34, 0.33], [0.33, 0.34, 0.33], [0.33, 0.34, 0.33], [0.33, 0.34, 0.33], [0.33, 0.34, 0.33], [0.33, 0.34, 0.33], [0.33, 0.34, 0.33], [0.33, 0.34, 0.33], [0.33, 0.34, 0.33]]\n",
      "changes tensor([[-1., -1.,  1., -1.,  0.,  1.,  0.,  1.],\n",
      "        [ 1., -1.,  0.,  0.,  0.,  1.,  0.,  1.]])\n",
      "delta_changes tensor([[-0.0100, -0.0100,  0.0100, -0.0100,  0.0000,  0.0100,  0.0000,  0.0100],\n",
      "        [ 0.0100, -0.0100,  0.0000,  0.0000,  0.0000,  0.0100,  0.0000,  0.0100]])\n",
      "Changed wt =  tensor([[ 0.0335, -0.2381,  0.2325, -0.1305, -0.1896,  0.2102,  0.2506, -0.2720],\n",
      "        [-0.2108,  0.2948, -0.2900, -0.1304,  0.3128, -0.1642,  0.1689,  0.0385]])\n",
      "0.1 0.01 100000 Running all epochs here\n",
      "Best Accuracy at the end  tensor(0.7078)\n",
      "probabs= [[0.3966666666666667, 0.3066666666666667, 0.2966666666666667], [0.2300000000000001, 0.39, 0.38], [0.3633333333333334, 0.32333333333333336, 0.31333333333333335], [0.2300000000000001, 0.39000000000000007, 0.38], [0.2300000000000001, 0.39000000000000007, 0.38], [0.3966666666666667, 0.3066666666666667, 0.2966666666666667], [0.39666666666666683, 0.3066666666666667, 0.2966666666666667], [0.2633333333333334, 0.37333333333333335, 0.36333333333333334], [0.33000000000000007, 0.3400000000000001, 0.33], [0.2300000000000001, 0.39000000000000007, 0.38], [0.29666666666666675, 0.35666666666666674, 0.3466666666666667], [0.29666666666666675, 0.35666666666666674, 0.3466666666666667], [0.33000000000000007, 0.3400000000000001, 0.33], [0.29666666666666675, 0.35666666666666674, 0.3466666666666667], [0.3966666666666667, 0.3066666666666667, 0.2966666666666667], [0.3633333333333334, 0.32333333333333336, 0.31333333333333335]]\n",
      "changes= tensor([[ 0.,  0., -1.,  0.,  0.,  0.,  0.,  1.],\n",
      "        [ 1.,  0.,  0., -1., -1.,  0.,  1.,  1.]])\n"
     ]
    },
    {
     "data": {
      "image/png": "[encoded data removed]",
      "text/plain": [
       "<Figure size 432x288 with 1 Axes>"
      ]
     },
     "metadata": {
      "needs_background": "light"
     },
     "output_type": "display_data"
    },
    {
     "name": "stdout",
     "output_type": "stream",
     "text": [
      "********************\n",
      "initial_weights= tensor([[ 0.0435, -0.2281,  0.2225, -0.1205, -0.1896,  0.2002,  0.2506, -0.2820],\n",
      "        [-0.2208,  0.3048, -0.2900, -0.1304,  0.3128, -0.1742,  0.1689,  0.0285]])\n",
      "Initial acc is  tensor(0.3713)\n",
      "for each wts initial probabs= [[0.33, 0.34, 0.33], [0.33, 0.34, 0.33], [0.33, 0.34, 0.33], [0.33, 0.34, 0.33], [0.33, 0.34, 0.33], [0.33, 0.34, 0.33], [0.33, 0.34, 0.33], [0.33, 0.34, 0.33], [0.33, 0.34, 0.33], [0.33, 0.34, 0.33], [0.33, 0.34, 0.33], [0.33, 0.34, 0.33], [0.33, 0.34, 0.33], [0.33, 0.34, 0.33], [0.33, 0.34, 0.33], [0.33, 0.34, 0.33]]\n",
      "changes tensor([[ 1.,  1., -1.,  1.,  0.,  1.,  1., -1.],\n",
      "        [ 1., -1.,  1.,  0.,  0.,  0.,  0.,  0.]])\n",
      "delta_changes tensor([[ 0.0010,  0.0010, -0.0010,  0.0010,  0.0000,  0.0010,  0.0010, -0.0010],\n",
      "        [ 0.0010, -0.0010,  0.0010,  0.0000,  0.0000,  0.0000,  0.0000,  0.0000]])\n",
      "Changed wt =  tensor([[ 0.0445, -0.2271,  0.2215, -0.1195, -0.1896,  0.2012,  0.2516, -0.2830],\n",
      "        [-0.2198,  0.3038, -0.2890, -0.1304,  0.3128, -0.1742,  0.1689,  0.0285]])\n",
      "0.1 0.001 100000 Running all epochs here\n",
      "Best Accuracy at the end  tensor(0.7532)\n",
      "probabs= [[0.3966666666666667, 0.30666666666666675, 0.2966666666666667], [0.2633333333333334, 0.3733333333333334, 0.36333333333333334], [0.16333333333333344, 0.4233333333333334, 0.41333333333333333], [0.33000000000000007, 0.3400000000000001, 0.33], [0.33000000000000007, 0.3400000000000001, 0.33], [0.3633333333333334, 0.3233333333333334, 0.31333333333333335], [0.33000000000000007, 0.3400000000000001, 0.33], [0.16333333333333344, 0.4233333333333334, 0.41333333333333333], [0.3966666666666667, 0.30666666666666675, 0.2966666666666667], [0.2633333333333334, 0.3733333333333334, 0.36333333333333334], [0.13000000000000012, 0.44000000000000006, 0.43], [0.43000000000000005, 0.2900000000000001, 0.28], [0.2300000000000001, 0.39000000000000007, 0.38], [0.29666666666666675, 0.35666666666666674, 0.3466666666666667], [0.2300000000000001, 0.39000000000000007, 0.38], [0.4633333333333334, 0.27333333333333343, 0.26333333333333336]]\n",
      "changes= tensor([[ 0.,  1., -1.,  1., -1.,  1.,  1.,  0.],\n",
      "        [-1.,  1., -1.,  1.,  0., -1., -1.,  0.]])\n"
     ]
    },
    {
     "data": {
      "image/png": "[encoded data removed]",
      "text/plain": [
       "<Figure size 432x288 with 1 Axes>"
      ]
     },
     "metadata": {
      "needs_background": "light"
     },
     "output_type": "display_data"
    },
    {
     "name": "stdout",
     "output_type": "stream",
     "text": [
      "********************\n",
      "initial_weights= tensor([[ 0.0435, -0.2281,  0.2225, -0.1205, -0.1896,  0.2002,  0.2506, -0.2820],\n",
      "        [-0.2208,  0.3048, -0.2900, -0.1304,  0.3128, -0.1742,  0.1689,  0.0285]])\n",
      "Initial acc is  tensor(0.3713)\n",
      "for each wts initial probabs= [[0.33, 0.34, 0.33], [0.33, 0.34, 0.33], [0.33, 0.34, 0.33], [0.33, 0.34, 0.33], [0.33, 0.34, 0.33], [0.33, 0.34, 0.33], [0.33, 0.34, 0.33], [0.33, 0.34, 0.33], [0.33, 0.34, 0.33], [0.33, 0.34, 0.33], [0.33, 0.34, 0.33], [0.33, 0.34, 0.33], [0.33, 0.34, 0.33], [0.33, 0.34, 0.33], [0.33, 0.34, 0.33], [0.33, 0.34, 0.33]]\n",
      "changes tensor([[-1., -1., -1., -1., -1., -1.,  0., -1.],\n",
      "        [-1., -1., -1.,  1.,  0.,  1.,  1.,  0.]])\n",
      "delta_changes tensor([[-1.0000e-04, -1.0000e-04, -1.0000e-04, -1.0000e-04, -1.0000e-04,\n",
      "         -1.0000e-04,  0.0000e+00, -1.0000e-04],\n",
      "        [-1.0000e-04, -1.0000e-04, -1.0000e-04,  1.0000e-04,  0.0000e+00,\n",
      "          1.0000e-04,  1.0000e-04,  0.0000e+00]])\n",
      "Changed wt =  tensor([[ 0.0434, -0.2282,  0.2224, -0.1206, -0.1897,  0.2001,  0.2506, -0.2821],\n",
      "        [-0.2209,  0.3047, -0.2901, -0.1303,  0.3128, -0.1741,  0.1690,  0.0285]])\n",
      "0.1 0.0001 100000 Running all epochs here\n",
      "Best Accuracy at the end  tensor(0.3442)\n",
      "probabs= [[0.2633333333333334, 0.37333333333333335, 0.36333333333333334], [0.16333333333333344, 0.42333333333333334, 0.41333333333333333], [0.43000000000000005, 0.29000000000000004, 0.28], [0.2300000000000001, 0.39, 0.38], [0.43000000000000005, 0.2900000000000001, 0.28], [0.29666666666666675, 0.3566666666666667, 0.3466666666666667], [0.13000000000000012, 0.44000000000000006, 0.43], [0.33000000000000007, 0.3400000000000001, 0.33], [0.3966666666666667, 0.3066666666666667, 0.2966666666666667], [0.33000000000000007, 0.34, 0.33], [0.3966666666666667, 0.3066666666666667, 0.2966666666666667], [0.2633333333333334, 0.3733333333333334, 0.36333333333333334], [0.33000000000000007, 0.34, 0.33], [0.2300000000000001, 0.39000000000000007, 0.38], [0.43000000000000005, 0.29000000000000004, 0.28], [0.2300000000000001, 0.39, 0.38]]\n",
      "changes= tensor([[ 0., -1.,  1.,  0.,  1.,  0.,  0.,  0.],\n",
      "        [ 1.,  0.,  1., -1., -1.,  0.,  1., -1.]])\n"
     ]
    },
    {
     "data": {
      "image/png": "[encoded data removed]",
      "text/plain": [
       "<Figure size 432x288 with 1 Axes>"
      ]
     },
     "metadata": {
      "needs_background": "light"
     },
     "output_type": "display_data"
    },
    {
     "name": "stdout",
     "output_type": "stream",
     "text": [
      "********************\n",
      "initial_weights= tensor([[ 0.0435, -0.2281,  0.2225, -0.1205, -0.1896,  0.2002,  0.2506, -0.2820],\n",
      "        [-0.2208,  0.3048, -0.2900, -0.1304,  0.3128, -0.1742,  0.1689,  0.0285]])\n",
      "Initial acc is  tensor(0.3713)\n",
      "for each wts initial probabs= [[0.33, 0.34, 0.33], [0.33, 0.34, 0.33], [0.33, 0.34, 0.33], [0.33, 0.34, 0.33], [0.33, 0.34, 0.33], [0.33, 0.34, 0.33], [0.33, 0.34, 0.33], [0.33, 0.34, 0.33], [0.33, 0.34, 0.33], [0.33, 0.34, 0.33], [0.33, 0.34, 0.33], [0.33, 0.34, 0.33], [0.33, 0.34, 0.33], [0.33, 0.34, 0.33], [0.33, 0.34, 0.33], [0.33, 0.34, 0.33]]\n",
      "changes tensor([[ 1.,  0., -1.,  1., -1.,  1., -1.,  0.],\n",
      "        [ 0.,  0., -1.,  0.,  0.,  0.,  1., -1.]])\n",
      "delta_changes tensor([[ 1.0000e-05,  0.0000e+00, -1.0000e-05,  1.0000e-05, -1.0000e-05,\n",
      "          1.0000e-05, -1.0000e-05,  0.0000e+00],\n",
      "        [ 0.0000e+00,  0.0000e+00, -1.0000e-05,  0.0000e+00,  0.0000e+00,\n",
      "          0.0000e+00,  1.0000e-05, -1.0000e-05]])\n",
      "Changed wt =  tensor([[ 0.0435, -0.2281,  0.2225, -0.1205, -0.1896,  0.2002,  0.2506, -0.2820],\n",
      "        [-0.2208,  0.3048, -0.2900, -0.1304,  0.3128, -0.1742,  0.1689,  0.0285]])\n",
      "0.1 1e-05 100000 Running all epochs here\n",
      "Best Accuracy at the end  tensor(0.3442)\n",
      "probabs= [[0.2633333333333334, 0.37333333333333335, 0.36333333333333334], [0.43000000000000005, 0.29000000000000004, 0.28], [0.3633333333333334, 0.32333333333333336, 0.31333333333333335], [0.2633333333333334, 0.37333333333333335, 0.36333333333333334], [0.33000000000000007, 0.34, 0.33], [0.4633333333333334, 0.2733333333333334, 0.26333333333333336], [0.43000000000000005, 0.29000000000000004, 0.28], [0.3633333333333334, 0.32333333333333336, 0.31333333333333335], [0.2633333333333334, 0.3733333333333334, 0.36333333333333334], [0.43000000000000005, 0.29000000000000004, 0.28], [0.29666666666666675, 0.3566666666666667, 0.3466666666666667], [0.2633333333333334, 0.37333333333333335, 0.36333333333333334], [0.3633333333333334, 0.32333333333333336, 0.31333333333333335], [0.3966666666666667, 0.3066666666666667, 0.2966666666666667], [0.2633333333333334, 0.37333333333333335, 0.36333333333333334], [0.29666666666666675, 0.3566666666666667, 0.3466666666666667]]\n",
      "changes= tensor([[ 0.,  1., -1.,  1.,  0.,  0.,  1., -1.],\n",
      "        [ 1.,  1., -1.,  0.,  0.,  1.,  0., -1.]])\n"
     ]
    },
    {
     "data": {
      "image/png": "[encoded data removed]",
      "text/plain": [
       "<Figure size 432x288 with 1 Axes>"
      ]
     },
     "metadata": {
      "needs_background": "light"
     },
     "output_type": "display_data"
    },
    {
     "name": "stdout",
     "output_type": "stream",
     "text": [
      "********************\n",
      "initial_weights= tensor([[ 0.0435, -0.2281,  0.2225, -0.1205, -0.1896,  0.2002,  0.2506, -0.2820],\n",
      "        [-0.2208,  0.3048, -0.2900, -0.1304,  0.3128, -0.1742,  0.1689,  0.0285]])\n",
      "Initial acc is  tensor(0.3713)\n",
      "for each wts initial probabs= [[0.33, 0.34, 0.33], [0.33, 0.34, 0.33], [0.33, 0.34, 0.33], [0.33, 0.34, 0.33], [0.33, 0.34, 0.33], [0.33, 0.34, 0.33], [0.33, 0.34, 0.33], [0.33, 0.34, 0.33], [0.33, 0.34, 0.33], [0.33, 0.34, 0.33], [0.33, 0.34, 0.33], [0.33, 0.34, 0.33], [0.33, 0.34, 0.33], [0.33, 0.34, 0.33], [0.33, 0.34, 0.33], [0.33, 0.34, 0.33]]\n",
      "changes tensor([[ 1.,  1.,  1.,  0.,  0.,  1., -1.,  1.],\n",
      "        [ 1.,  1.,  0.,  1.,  1.,  0.,  0.,  0.]])\n",
      "delta_changes tensor([[ 0.1000,  0.1000,  0.1000,  0.0000,  0.0000,  0.1000, -0.1000,  0.1000],\n",
      "        [ 0.1000,  0.1000,  0.0000,  0.1000,  0.1000,  0.0000,  0.0000,  0.0000]])\n",
      "Changed wt =  tensor([[ 0.1435, -0.1281,  0.3225, -0.1205, -0.1896,  0.3002,  0.1506, -0.1820],\n",
      "        [-0.1208,  0.4048, -0.2900, -0.0304,  0.4128, -0.1742,  0.1689,  0.0285]])\n",
      "0.01 0.1 100000 Running all epochs here\n",
      "Best Accuracy at the end  tensor(0.7143)\n",
      "probabs= [[0.3600000000000002, 0.3250000000000002, 0.31500000000000017], [0.27666666666666634, 0.3666666666666664, 0.3566666666666664], [0.3600000000000002, 0.3250000000000002, 0.31500000000000017], [0.33, 0.34, 0.33], [0.31999999999999995, 0.345, 0.33499999999999996], [0.3833333333333337, 0.31333333333333363, 0.3033333333333336], [0.31333333333333324, 0.3483333333333333, 0.33833333333333326], [0.2999999999999998, 0.35499999999999987, 0.34499999999999986], [0.31999999999999995, 0.345, 0.33499999999999996], [0.35666666666666685, 0.3266666666666668, 0.3166666666666668], [0.3666666666666669, 0.3216666666666669, 0.31166666666666687], [0.2999999999999998, 0.35499999999999987, 0.34499999999999986], [0.3666666666666669, 0.3216666666666669, 0.31166666666666687], [0.2866666666666664, 0.36166666666666647, 0.35166666666666646], [0.3533333333333335, 0.3283333333333335, 0.31833333333333347], [0.35000000000000014, 0.3300000000000001, 0.3200000000000001]]\n",
      "changes= tensor([[-1., -1.,  0., -1., -1.,  1., -1.,  0.],\n",
      "        [-1.,  1.,  0., -1., -1., -1.,  0.,  1.]])\n"
     ]
    },
    {
     "data": {
      "image/png": "[encoded data removed]",
      "text/plain": [
       "<Figure size 432x288 with 1 Axes>"
      ]
     },
     "metadata": {
      "needs_background": "light"
     },
     "output_type": "display_data"
    },
    {
     "name": "stdout",
     "output_type": "stream",
     "text": [
      "********************\n",
      "initial_weights= tensor([[ 0.0435, -0.2281,  0.2225, -0.1205, -0.1896,  0.2002,  0.2506, -0.2820],\n",
      "        [-0.2208,  0.3048, -0.2900, -0.1304,  0.3128, -0.1742,  0.1689,  0.0285]])\n",
      "Initial acc is  tensor(0.3713)\n",
      "for each wts initial probabs= [[0.33, 0.34, 0.33], [0.33, 0.34, 0.33], [0.33, 0.34, 0.33], [0.33, 0.34, 0.33], [0.33, 0.34, 0.33], [0.33, 0.34, 0.33], [0.33, 0.34, 0.33], [0.33, 0.34, 0.33], [0.33, 0.34, 0.33], [0.33, 0.34, 0.33], [0.33, 0.34, 0.33], [0.33, 0.34, 0.33], [0.33, 0.34, 0.33], [0.33, 0.34, 0.33], [0.33, 0.34, 0.33], [0.33, 0.34, 0.33]]\n",
      "changes tensor([[ 1., -1.,  0.,  1.,  0., -1.,  1.,  1.],\n",
      "        [-1.,  1.,  1., -1.,  0.,  1.,  0.,  1.]])\n",
      "delta_changes tensor([[ 0.0100, -0.0100,  0.0000,  0.0100,  0.0000, -0.0100,  0.0100,  0.0100],\n",
      "        [-0.0100,  0.0100,  0.0100, -0.0100,  0.0000,  0.0100,  0.0000,  0.0100]])\n",
      "Changed wt =  tensor([[ 0.0535, -0.2381,  0.2225, -0.1105, -0.1896,  0.1902,  0.2606, -0.2720],\n",
      "        [-0.2308,  0.3148, -0.2800, -0.1404,  0.3128, -0.1642,  0.1689,  0.0385]])\n",
      "0.01 0.01 100000 Running all epochs here\n",
      "Best Accuracy at the end  tensor(0.7078)\n",
      "probabs= [[0.3366666666666667, 0.3366666666666667, 0.3266666666666667], [0.28333333333333305, 0.3633333333333331, 0.3533333333333331], [0.34333333333333343, 0.3333333333333334, 0.3233333333333334], [0.3233333333333333, 0.3433333333333333, 0.3333333333333333], [0.30666666666666653, 0.35166666666666657, 0.34166666666666656], [0.3166666666666666, 0.3466666666666666, 0.3366666666666666], [0.3366666666666667, 0.3366666666666667, 0.3266666666666667], [0.31999999999999995, 0.345, 0.33499999999999996], [0.3366666666666667, 0.3366666666666667, 0.3266666666666667], [0.36333333333333356, 0.32333333333333353, 0.3133333333333335], [0.2999999999999998, 0.35499999999999987, 0.34499999999999986], [0.3466666666666668, 0.3316666666666668, 0.32166666666666677], [0.31999999999999995, 0.345, 0.33499999999999996], [0.273333333333333, 0.36833333333333307, 0.35833333333333306], [0.3033333333333332, 0.3533333333333332, 0.3433333333333332], [0.33333333333333337, 0.3383333333333334, 0.32833333333333337]]\n",
      "changes= tensor([[ 1., -1.,  0., -1.,  0., -1., -1.,  0.],\n",
      "        [ 1., -1., -1.,  0.,  0., -1.,  0., -1.]])\n"
     ]
    },
    {
     "data": {
      "image/png": "[encoded data removed]",
      "text/plain": [
       "<Figure size 432x288 with 1 Axes>"
      ]
     },
     "metadata": {
      "needs_background": "light"
     },
     "output_type": "display_data"
    },
    {
     "name": "stdout",
     "output_type": "stream",
     "text": [
      "********************\n",
      "initial_weights= tensor([[ 0.0435, -0.2281,  0.2225, -0.1205, -0.1896,  0.2002,  0.2506, -0.2820],\n",
      "        [-0.2208,  0.3048, -0.2900, -0.1304,  0.3128, -0.1742,  0.1689,  0.0285]])\n",
      "Initial acc is  tensor(0.3713)\n",
      "for each wts initial probabs= [[0.33, 0.34, 0.33], [0.33, 0.34, 0.33], [0.33, 0.34, 0.33], [0.33, 0.34, 0.33], [0.33, 0.34, 0.33], [0.33, 0.34, 0.33], [0.33, 0.34, 0.33], [0.33, 0.34, 0.33], [0.33, 0.34, 0.33], [0.33, 0.34, 0.33], [0.33, 0.34, 0.33], [0.33, 0.34, 0.33], [0.33, 0.34, 0.33], [0.33, 0.34, 0.33], [0.33, 0.34, 0.33], [0.33, 0.34, 0.33]]\n",
      "changes tensor([[ 0.,  1., -1., -1., -1.,  1., -1.,  1.],\n",
      "        [-1.,  1.,  1., -1.,  1.,  1.,  0.,  1.]])\n",
      "delta_changes tensor([[ 0.0000,  0.0010, -0.0010, -0.0010, -0.0010,  0.0010, -0.0010,  0.0010],\n",
      "        [-0.0010,  0.0010,  0.0010, -0.0010,  0.0010,  0.0010,  0.0000,  0.0010]])\n",
      "Changed wt =  tensor([[ 0.0435, -0.2271,  0.2215, -0.1215, -0.1906,  0.2012,  0.2496, -0.2810],\n",
      "        [-0.2218,  0.3058, -0.2890, -0.1314,  0.3138, -0.1732,  0.1689,  0.0295]])\n",
      "0.01 0.001 100000 Running all epochs here\n",
      "Best Accuracy at the end  tensor(0.7013)\n",
      "probabs= [[0.3833333333333337, 0.31333333333333363, 0.3033333333333336], [0.34333333333333343, 0.3333333333333334, 0.3233333333333334], [0.35666666666666685, 0.3266666666666668, 0.3166666666666668], [0.376666666666667, 0.31666666666666693, 0.3066666666666669], [0.38666666666666705, 0.311666666666667, 0.30166666666666697], [0.35666666666666685, 0.3266666666666668, 0.3166666666666668], [0.33333333333333337, 0.3383333333333334, 0.32833333333333337], [0.35000000000000014, 0.3300000000000001, 0.3200000000000001], [0.38000000000000034, 0.3150000000000003, 0.30500000000000027], [0.31999999999999995, 0.345, 0.33499999999999996], [0.28333333333333305, 0.3633333333333331, 0.3533333333333331], [0.3366666666666667, 0.3366666666666667, 0.3266666666666667], [0.33333333333333337, 0.3383333333333334, 0.32833333333333337], [0.3099999999999999, 0.3499999999999999, 0.3399999999999999], [0.3666666666666669, 0.3216666666666669, 0.31166666666666687], [0.36333333333333356, 0.32333333333333353, 0.3133333333333335]]\n",
      "changes= tensor([[ 1.,  0.,  1., -1., -1., -1.,  0., -1.],\n",
      "        [ 1.,  1., -1., -1.,  1.,  1.,  0., -1.]])\n"
     ]
    },
    {
     "data": {
      "image/png": "[encoded data removed]",
      "text/plain": [
       "<Figure size 432x288 with 1 Axes>"
      ]
     },
     "metadata": {
      "needs_background": "light"
     },
     "output_type": "display_data"
    },
    {
     "name": "stdout",
     "output_type": "stream",
     "text": [
      "********************\n",
      "initial_weights= tensor([[ 0.0435, -0.2281,  0.2225, -0.1205, -0.1896,  0.2002,  0.2506, -0.2820],\n",
      "        [-0.2208,  0.3048, -0.2900, -0.1304,  0.3128, -0.1742,  0.1689,  0.0285]])\n",
      "Initial acc is  tensor(0.3713)\n",
      "for each wts initial probabs= [[0.33, 0.34, 0.33], [0.33, 0.34, 0.33], [0.33, 0.34, 0.33], [0.33, 0.34, 0.33], [0.33, 0.34, 0.33], [0.33, 0.34, 0.33], [0.33, 0.34, 0.33], [0.33, 0.34, 0.33], [0.33, 0.34, 0.33], [0.33, 0.34, 0.33], [0.33, 0.34, 0.33], [0.33, 0.34, 0.33], [0.33, 0.34, 0.33], [0.33, 0.34, 0.33], [0.33, 0.34, 0.33], [0.33, 0.34, 0.33]]\n",
      "changes tensor([[-1.,  1.,  1.,  0., -1.,  0., -1.,  0.],\n",
      "        [-1., -1.,  0.,  0., -1.,  1.,  0., -1.]])\n",
      "delta_changes tensor([[-1.0000e-04,  1.0000e-04,  1.0000e-04,  0.0000e+00, -1.0000e-04,\n",
      "          0.0000e+00, -1.0000e-04,  0.0000e+00],\n",
      "        [-1.0000e-04, -1.0000e-04,  0.0000e+00,  0.0000e+00, -1.0000e-04,\n",
      "          1.0000e-04,  0.0000e+00, -1.0000e-04]])\n",
      "Changed wt =  tensor([[ 0.0434, -0.2280,  0.2226, -0.1205, -0.1897,  0.2002,  0.2505, -0.2820],\n",
      "        [-0.2209,  0.3047, -0.2900, -0.1304,  0.3127, -0.1741,  0.1689,  0.0284]])\n",
      "0.01 0.0001 100000 Running all epochs here\n",
      "Best Accuracy at the end  tensor(0.3506)\n",
      "probabs= [[0.3233333333333333, 0.3433333333333333, 0.3333333333333333], [0.3466666666666668, 0.3316666666666668, 0.32166666666666677], [0.3600000000000002, 0.3250000000000002, 0.31500000000000017], [0.2933333333333331, 0.35833333333333317, 0.34833333333333316], [0.3400000000000001, 0.3350000000000001, 0.32500000000000007], [0.3166666666666666, 0.3466666666666666, 0.3366666666666666], [0.3166666666666666, 0.3466666666666666, 0.3366666666666666], [0.3466666666666668, 0.3316666666666668, 0.32166666666666677], [0.33, 0.34, 0.33], [0.3166666666666666, 0.3466666666666666, 0.3366666666666666], [0.3400000000000001, 0.3350000000000001, 0.32500000000000007], [0.2933333333333331, 0.35833333333333317, 0.34833333333333316], [0.3099999999999999, 0.3499999999999999, 0.3399999999999999], [0.3466666666666668, 0.3316666666666668, 0.32166666666666677], [0.3366666666666667, 0.3366666666666667, 0.3266666666666667], [0.30666666666666653, 0.35166666666666657, 0.34166666666666656]]\n",
      "changes= tensor([[-1., -1.,  1.,  0., -1.,  0.,  1., -1.],\n",
      "        [ 1., -1.,  0.,  0.,  0.,  1., -1.,  1.]])\n"
     ]
    },
    {
     "data": {
      "image/png": "[encoded data removed]",
      "text/plain": [
       "<Figure size 432x288 with 1 Axes>"
      ]
     },
     "metadata": {
      "needs_background": "light"
     },
     "output_type": "display_data"
    },
    {
     "name": "stdout",
     "output_type": "stream",
     "text": [
      "********************\n",
      "initial_weights= tensor([[ 0.0435, -0.2281,  0.2225, -0.1205, -0.1896,  0.2002,  0.2506, -0.2820],\n",
      "        [-0.2208,  0.3048, -0.2900, -0.1304,  0.3128, -0.1742,  0.1689,  0.0285]])\n",
      "Initial acc is  tensor(0.3713)\n",
      "for each wts initial probabs= [[0.33, 0.34, 0.33], [0.33, 0.34, 0.33], [0.33, 0.34, 0.33], [0.33, 0.34, 0.33], [0.33, 0.34, 0.33], [0.33, 0.34, 0.33], [0.33, 0.34, 0.33], [0.33, 0.34, 0.33], [0.33, 0.34, 0.33], [0.33, 0.34, 0.33], [0.33, 0.34, 0.33], [0.33, 0.34, 0.33], [0.33, 0.34, 0.33], [0.33, 0.34, 0.33], [0.33, 0.34, 0.33], [0.33, 0.34, 0.33]]\n",
      "changes tensor([[ 1., -1., -1., -1., -1., -1.,  1., -1.],\n",
      "        [-1.,  1.,  0., -1.,  0., -1.,  0.,  0.]])\n",
      "delta_changes tensor([[ 1.0000e-05, -1.0000e-05, -1.0000e-05, -1.0000e-05, -1.0000e-05,\n",
      "         -1.0000e-05,  1.0000e-05, -1.0000e-05],\n",
      "        [-1.0000e-05,  1.0000e-05,  0.0000e+00, -1.0000e-05,  0.0000e+00,\n",
      "         -1.0000e-05,  0.0000e+00,  0.0000e+00]])\n",
      "Changed wt =  tensor([[ 0.0435, -0.2281,  0.2225, -0.1205, -0.1896,  0.2002,  0.2506, -0.2820],\n",
      "        [-0.2208,  0.3048, -0.2900, -0.1304,  0.3128, -0.1742,  0.1689,  0.0285]])\n",
      "0.01 1e-05 100000 Running all epochs here\n",
      "Best Accuracy at the end  tensor(0.3442)\n",
      "probabs= [[0.33333333333333337, 0.3383333333333334, 0.32833333333333337], [0.31999999999999995, 0.345, 0.33499999999999996], [0.3366666666666667, 0.3366666666666667, 0.3266666666666667], [0.35666666666666685, 0.3266666666666668, 0.3166666666666668], [0.28999999999999976, 0.3599999999999998, 0.3499999999999998], [0.3466666666666668, 0.3316666666666668, 0.32166666666666677], [0.31999999999999995, 0.345, 0.33499999999999996], [0.38666666666666705, 0.311666666666667, 0.30166666666666697], [0.34333333333333343, 0.3333333333333334, 0.3233333333333334], [0.36333333333333356, 0.32333333333333353, 0.3133333333333335], [0.33, 0.34, 0.33], [0.2999999999999998, 0.35499999999999987, 0.34499999999999986], [0.3099999999999999, 0.3499999999999999, 0.3399999999999999], [0.32666666666666666, 0.3416666666666667, 0.33166666666666667], [0.30666666666666653, 0.35166666666666657, 0.34166666666666656], [0.3033333333333332, 0.3533333333333332, 0.3433333333333332]]\n",
      "changes= tensor([[ 0., -1., -1.,  0.,  1., -1.,  1.,  1.],\n",
      "        [ 1., -1., -1.,  0.,  0.,  1.,  0.,  1.]])\n"
     ]
    },
    {
     "data": {
      "image/png": "[encoded data removed]",
      "text/plain": [
       "<Figure size 432x288 with 1 Axes>"
      ]
     },
     "metadata": {
      "needs_background": "light"
     },
     "output_type": "display_data"
    },
    {
     "name": "stdout",
     "output_type": "stream",
     "text": [
      "********************\n",
      "initial_weights= tensor([[ 0.0435, -0.2281,  0.2225, -0.1205, -0.1896,  0.2002,  0.2506, -0.2820],\n",
      "        [-0.2208,  0.3048, -0.2900, -0.1304,  0.3128, -0.1742,  0.1689,  0.0285]])\n",
      "Initial acc is  tensor(0.3713)\n",
      "for each wts initial probabs= [[0.33, 0.34, 0.33], [0.33, 0.34, 0.33], [0.33, 0.34, 0.33], [0.33, 0.34, 0.33], [0.33, 0.34, 0.33], [0.33, 0.34, 0.33], [0.33, 0.34, 0.33], [0.33, 0.34, 0.33], [0.33, 0.34, 0.33], [0.33, 0.34, 0.33], [0.33, 0.34, 0.33], [0.33, 0.34, 0.33], [0.33, 0.34, 0.33], [0.33, 0.34, 0.33], [0.33, 0.34, 0.33], [0.33, 0.34, 0.33]]\n",
      "changes tensor([[ 1.,  0., -1., -1.,  0.,  1., -1.,  0.],\n",
      "        [ 1., -1.,  0.,  1.,  0.,  0., -1.,  0.]])\n",
      "delta_changes tensor([[ 0.1000,  0.0000, -0.1000, -0.1000,  0.0000,  0.1000, -0.1000,  0.0000],\n",
      "        [ 0.1000, -0.1000,  0.0000,  0.1000,  0.0000,  0.0000, -0.1000,  0.0000]])\n",
      "Changed wt =  tensor([[ 0.1435, -0.2281,  0.1225, -0.2205, -0.1896,  0.3002,  0.1506, -0.2820],\n",
      "        [-0.1208,  0.2048, -0.2900, -0.0304,  0.3128, -0.1742,  0.0689,  0.0285]])\n",
      "0.001 0.1 100000 Running all epochs here\n",
      "Best Accuracy at the end  tensor(0.7468)\n",
      "probabs= [[0.32966666666666666, 0.3401666666666667, 0.33016666666666666], [0.3420000000000007, 0.3340000000000007, 0.3240000000000007], [0.33200000000000013, 0.33900000000000013, 0.3290000000000001], [0.32966666666666666, 0.3401666666666667, 0.33016666666666666], [0.32766666666666655, 0.34116666666666656, 0.33116666666666655], [0.33200000000000013, 0.33900000000000013, 0.3290000000000001], [0.33400000000000024, 0.33800000000000024, 0.32800000000000024], [0.33866666666666717, 0.33566666666666717, 0.32566666666666716], [0.33666666666666706, 0.33666666666666706, 0.32666666666666705], [0.32266666666666627, 0.3436666666666663, 0.3336666666666663], [0.3259999999999998, 0.3419999999999998, 0.3319999999999998], [0.33100000000000007, 0.3395000000000001, 0.32950000000000007], [0.3330000000000002, 0.3385000000000002, 0.3285000000000002], [0.33400000000000024, 0.33800000000000024, 0.32800000000000024], [0.3153333333333325, 0.34733333333333255, 0.33733333333333254], [0.3163333333333326, 0.3468333333333326, 0.3368333333333326]]\n",
      "changes= tensor([[ 1.,  0.,  0.,  1.,  0.,  1.,  0.,  1.],\n",
      "        [ 0., -1.,  0.,  0.,  0.,  1., -1.,  1.]])\n"
     ]
    },
    {
     "data": {
      "image/png": "[encoded data removed]",
      "text/plain": [
       "<Figure size 432x288 with 1 Axes>"
      ]
     },
     "metadata": {
      "needs_background": "light"
     },
     "output_type": "display_data"
    },
    {
     "name": "stdout",
     "output_type": "stream",
     "text": [
      "********************\n",
      "initial_weights= tensor([[ 0.0435, -0.2281,  0.2225, -0.1205, -0.1896,  0.2002,  0.2506, -0.2820],\n",
      "        [-0.2208,  0.3048, -0.2900, -0.1304,  0.3128, -0.1742,  0.1689,  0.0285]])\n",
      "Initial acc is  tensor(0.3713)\n",
      "for each wts initial probabs= [[0.33, 0.34, 0.33], [0.33, 0.34, 0.33], [0.33, 0.34, 0.33], [0.33, 0.34, 0.33], [0.33, 0.34, 0.33], [0.33, 0.34, 0.33], [0.33, 0.34, 0.33], [0.33, 0.34, 0.33], [0.33, 0.34, 0.33], [0.33, 0.34, 0.33], [0.33, 0.34, 0.33], [0.33, 0.34, 0.33], [0.33, 0.34, 0.33], [0.33, 0.34, 0.33], [0.33, 0.34, 0.33], [0.33, 0.34, 0.33]]\n",
      "changes tensor([[-1.,  0.,  0.,  0.,  0., -1., -1.,  0.],\n",
      "        [-1., -1.,  0.,  0., -1., -1.,  1., -1.]])\n",
      "delta_changes tensor([[-0.0100,  0.0000,  0.0000,  0.0000,  0.0000, -0.0100, -0.0100,  0.0000],\n",
      "        [-0.0100, -0.0100,  0.0000,  0.0000, -0.0100, -0.0100,  0.0100, -0.0100]])\n",
      "Changed wt =  tensor([[ 0.0335, -0.2281,  0.2225, -0.1205, -0.1896,  0.1902,  0.2406, -0.2820],\n",
      "        [-0.2308,  0.2948, -0.2900, -0.1304,  0.3028, -0.1842,  0.1789,  0.0185]])\n",
      "0.001 0.01 100000 Running all epochs here\n",
      "Best Accuracy at the end  tensor(0.7078)\n",
      "probabs= [[0.3163333333333326, 0.3468333333333326, 0.3368333333333326], [0.34233333333333404, 0.33383333333333404, 0.32383333333333403], [0.31733333333333263, 0.34633333333333266, 0.33633333333333265], [0.32066666666666616, 0.3446666666666662, 0.33466666666666617], [0.32266666666666627, 0.3436666666666663, 0.3336666666666663], [0.33733333333333376, 0.33633333333333376, 0.32633333333333375], [0.33400000000000024, 0.33800000000000024, 0.32800000000000024], [0.34166666666666734, 0.33416666666666733, 0.3241666666666673], [0.33, 0.34, 0.33], [0.32699999999999985, 0.34149999999999986, 0.33149999999999985], [0.33, 0.34, 0.33], [0.335666666666667, 0.337166666666667, 0.327166666666667], [0.34166666666666734, 0.33416666666666733, 0.3241666666666673], [0.33266666666666683, 0.33866666666666684, 0.32866666666666683], [0.33033333333333337, 0.3398333333333334, 0.32983333333333337], [0.33100000000000007, 0.3395000000000001, 0.32950000000000007]]\n",
      "changes= tensor([[ 1., -1.,  0., -1.,  1.,  1.,  1.,  0.],\n",
      "        [-1.,  1.,  1.,  0.,  0.,  1., -1.,  0.]])\n"
     ]
    },
    {
     "data": {
      "image/png": "[encoded data removed]",
      "text/plain": [
       "<Figure size 432x288 with 1 Axes>"
      ]
     },
     "metadata": {
      "needs_background": "light"
     },
     "output_type": "display_data"
    },
    {
     "name": "stdout",
     "output_type": "stream",
     "text": [
      "********************\n",
      "initial_weights= tensor([[ 0.0435, -0.2281,  0.2225, -0.1205, -0.1896,  0.2002,  0.2506, -0.2820],\n",
      "        [-0.2208,  0.3048, -0.2900, -0.1304,  0.3128, -0.1742,  0.1689,  0.0285]])\n",
      "Initial acc is  tensor(0.3713)\n",
      "for each wts initial probabs= [[0.33, 0.34, 0.33], [0.33, 0.34, 0.33], [0.33, 0.34, 0.33], [0.33, 0.34, 0.33], [0.33, 0.34, 0.33], [0.33, 0.34, 0.33], [0.33, 0.34, 0.33], [0.33, 0.34, 0.33], [0.33, 0.34, 0.33], [0.33, 0.34, 0.33], [0.33, 0.34, 0.33], [0.33, 0.34, 0.33], [0.33, 0.34, 0.33], [0.33, 0.34, 0.33], [0.33, 0.34, 0.33], [0.33, 0.34, 0.33]]\n",
      "changes tensor([[ 1., -1.,  1.,  0.,  1., -1., -1.,  0.],\n",
      "        [-1., -1.,  1., -1.,  1.,  0., -1.,  1.]])\n",
      "delta_changes tensor([[ 0.0010, -0.0010,  0.0010,  0.0000,  0.0010, -0.0010, -0.0010,  0.0000],\n",
      "        [-0.0010, -0.0010,  0.0010, -0.0010,  0.0010,  0.0000, -0.0010,  0.0010]])\n",
      "Changed wt =  tensor([[ 0.0445, -0.2291,  0.2235, -0.1205, -0.1886,  0.1992,  0.2496, -0.2820],\n",
      "        [-0.2218,  0.3038, -0.2890, -0.1314,  0.3138, -0.1742,  0.1679,  0.0295]])\n",
      "0.001 0.001 100000 Running all epochs here\n",
      "Best Accuracy at the end  tensor(0.7078)\n",
      "probabs= [[0.3209999999999995, 0.34449999999999953, 0.3344999999999995], [0.341333333333334, 0.334333333333334, 0.324333333333334], [0.33333333333333354, 0.33833333333333354, 0.32833333333333353], [0.3266666666666665, 0.3416666666666665, 0.3316666666666665], [0.341333333333334, 0.334333333333334, 0.324333333333334], [0.33666666666666706, 0.33666666666666706, 0.32666666666666705], [0.32966666666666666, 0.3401666666666667, 0.33016666666666666], [0.34033333333333393, 0.3348333333333339, 0.3248333333333339], [0.33033333333333337, 0.3398333333333334, 0.32983333333333337], [0.32633333333333314, 0.34183333333333316, 0.33183333333333315], [0.3343333333333336, 0.3378333333333336, 0.3278333333333336], [0.34033333333333393, 0.3348333333333339, 0.3248333333333339], [0.317666666666666, 0.346166666666666, 0.336166666666666], [0.3159999999999992, 0.34699999999999925, 0.33699999999999924], [0.3363333333333337, 0.3368333333333337, 0.3268333333333337], [0.3266666666666665, 0.3416666666666665, 0.3316666666666665]]\n",
      "changes= tensor([[ 0., -1.,  1., -1.,  0.,  0.,  0.,  1.],\n",
      "        [ 0.,  0.,  1.,  1.,  0.,  0., -1.,  1.]])\n"
     ]
    },
    {
     "data": {
      "image/png": "[encoded data removed]",
      "text/plain": [
       "<Figure size 432x288 with 1 Axes>"
      ]
     },
     "metadata": {
      "needs_background": "light"
     },
     "output_type": "display_data"
    },
    {
     "name": "stdout",
     "output_type": "stream",
     "text": [
      "********************\n",
      "initial_weights= tensor([[ 0.0435, -0.2281,  0.2225, -0.1205, -0.1896,  0.2002,  0.2506, -0.2820],\n",
      "        [-0.2208,  0.3048, -0.2900, -0.1304,  0.3128, -0.1742,  0.1689,  0.0285]])\n",
      "Initial acc is  tensor(0.3713)\n",
      "for each wts initial probabs= [[0.33, 0.34, 0.33], [0.33, 0.34, 0.33], [0.33, 0.34, 0.33], [0.33, 0.34, 0.33], [0.33, 0.34, 0.33], [0.33, 0.34, 0.33], [0.33, 0.34, 0.33], [0.33, 0.34, 0.33], [0.33, 0.34, 0.33], [0.33, 0.34, 0.33], [0.33, 0.34, 0.33], [0.33, 0.34, 0.33], [0.33, 0.34, 0.33], [0.33, 0.34, 0.33], [0.33, 0.34, 0.33], [0.33, 0.34, 0.33]]\n",
      "changes tensor([[ 0.,  1., -1., -1.,  0., -1.,  0., -1.],\n",
      "        [-1., -1.,  0., -1.,  1., -1.,  1.,  0.]])\n",
      "delta_changes tensor([[ 0.0000e+00,  1.0000e-04, -1.0000e-04, -1.0000e-04,  0.0000e+00,\n",
      "         -1.0000e-04,  0.0000e+00, -1.0000e-04],\n",
      "        [-1.0000e-04, -1.0000e-04,  0.0000e+00, -1.0000e-04,  1.0000e-04,\n",
      "         -1.0000e-04,  1.0000e-04,  0.0000e+00]])\n",
      "Changed wt =  tensor([[ 0.0435, -0.2280,  0.2224, -0.1206, -0.1896,  0.2001,  0.2506, -0.2821],\n",
      "        [-0.2209,  0.3047, -0.2900, -0.1305,  0.3129, -0.1743,  0.1690,  0.0285]])\n",
      "0.001 0.0001 100000 Running all epochs here\n",
      "Best Accuracy at the end  tensor(0.3506)\n",
      "probabs= [[0.3393333333333339, 0.33533333333333387, 0.32533333333333386], [0.31933333333333275, 0.34533333333333277, 0.33533333333333276], [0.32766666666666655, 0.34116666666666656, 0.33116666666666655], [0.33266666666666683, 0.33866666666666684, 0.32866666666666683], [0.3313333333333334, 0.33933333333333343, 0.3293333333333334], [0.3163333333333326, 0.3468333333333326, 0.3368333333333326], [0.3313333333333334, 0.33933333333333343, 0.3293333333333334], [0.335666666666667, 0.337166666666667, 0.327166666666667], [0.32199999999999956, 0.3439999999999996, 0.3339999999999996], [0.3293333333333333, 0.3403333333333333, 0.3303333333333333], [0.317666666666666, 0.346166666666666, 0.336166666666666], [0.3330000000000002, 0.3385000000000002, 0.3285000000000002], [0.32833333333333325, 0.34083333333333327, 0.33083333333333326], [0.3223333333333329, 0.34383333333333294, 0.3338333333333329], [0.31999999999999945, 0.3449999999999995, 0.33499999999999946], [0.3259999999999998, 0.3419999999999998, 0.3319999999999998]]\n",
      "changes= tensor([[ 1.,  1.,  0.,  0.,  0., -1.,  0.,  1.],\n",
      "        [-1.,  1.,  0.,  0., -1.,  0., -1., -1.]])\n"
     ]
    },
    {
     "data": {
      "image/png": "[encoded data removed]",
      "text/plain": [
       "<Figure size 432x288 with 1 Axes>"
      ]
     },
     "metadata": {
      "needs_background": "light"
     },
     "output_type": "display_data"
    },
    {
     "name": "stdout",
     "output_type": "stream",
     "text": [
      "********************\n",
      "initial_weights= tensor([[ 0.0435, -0.2281,  0.2225, -0.1205, -0.1896,  0.2002,  0.2506, -0.2820],\n",
      "        [-0.2208,  0.3048, -0.2900, -0.1304,  0.3128, -0.1742,  0.1689,  0.0285]])\n",
      "Initial acc is  tensor(0.3713)\n",
      "for each wts initial probabs= [[0.33, 0.34, 0.33], [0.33, 0.34, 0.33], [0.33, 0.34, 0.33], [0.33, 0.34, 0.33], [0.33, 0.34, 0.33], [0.33, 0.34, 0.33], [0.33, 0.34, 0.33], [0.33, 0.34, 0.33], [0.33, 0.34, 0.33], [0.33, 0.34, 0.33], [0.33, 0.34, 0.33], [0.33, 0.34, 0.33], [0.33, 0.34, 0.33], [0.33, 0.34, 0.33], [0.33, 0.34, 0.33], [0.33, 0.34, 0.33]]\n",
      "changes tensor([[-1., -1., -1.,  1., -1., -1.,  1., -1.],\n",
      "        [ 0.,  1.,  1.,  1.,  1., -1.,  1., -1.]])\n",
      "delta_changes tensor([[-1.0000e-05, -1.0000e-05, -1.0000e-05,  1.0000e-05, -1.0000e-05,\n",
      "         -1.0000e-05,  1.0000e-05, -1.0000e-05],\n",
      "        [ 0.0000e+00,  1.0000e-05,  1.0000e-05,  1.0000e-05,  1.0000e-05,\n",
      "         -1.0000e-05,  1.0000e-05, -1.0000e-05]])\n",
      "Changed wt =  tensor([[ 0.0435, -0.2281,  0.2225, -0.1205, -0.1896,  0.2002,  0.2506, -0.2820],\n",
      "        [-0.2208,  0.3048, -0.2900, -0.1304,  0.3128, -0.1742,  0.1689,  0.0285]])\n",
      "0.001 1e-05 100000 Running all epochs here\n",
      "Best Accuracy at the end  tensor(0.3442)\n",
      "probabs= [[0.33033333333333337, 0.3398333333333334, 0.32983333333333337], [0.32133333333333286, 0.3443333333333329, 0.33433333333333287], [0.33666666666666706, 0.33666666666666706, 0.32666666666666705], [0.3390000000000005, 0.3355000000000005, 0.3255000000000005], [0.3376666666666671, 0.3361666666666671, 0.3261666666666671], [0.3393333333333339, 0.33533333333333387, 0.32533333333333386], [0.3279999999999999, 0.3409999999999999, 0.3309999999999999], [0.33466666666666695, 0.33766666666666695, 0.32766666666666694], [0.3350000000000003, 0.3375000000000003, 0.3275000000000003], [0.3390000000000005, 0.3355000000000005, 0.3255000000000005], [0.3293333333333333, 0.3403333333333333, 0.3303333333333333], [0.31999999999999945, 0.3449999999999995, 0.33499999999999946], [0.33200000000000013, 0.33900000000000013, 0.3290000000000001], [0.33200000000000013, 0.33900000000000013, 0.3290000000000001], [0.32966666666666666, 0.3401666666666667, 0.33016666666666666], [0.3279999999999999, 0.3409999999999999, 0.3309999999999999]]\n",
      "changes= tensor([[ 1., -1.,  1.,  1.,  1.,  1.,  1., -1.],\n",
      "        [ 0.,  0.,  1.,  0.,  1.,  1.,  0.,  1.]])\n"
     ]
    },
    {
     "data": {
      "image/png": "[encoded data removed]",
      "text/plain": [
       "<Figure size 432x288 with 1 Axes>"
      ]
     },
     "metadata": {
      "needs_background": "light"
     },
     "output_type": "display_data"
    },
    {
     "name": "stdout",
     "output_type": "stream",
     "text": [
      "********************\n",
      "initial_weights= tensor([[ 0.0435, -0.2281,  0.2225, -0.1205, -0.1896,  0.2002,  0.2506, -0.2820],\n",
      "        [-0.2208,  0.3048, -0.2900, -0.1304,  0.3128, -0.1742,  0.1689,  0.0285]])\n",
      "Initial acc is  tensor(0.3713)\n",
      "for each wts initial probabs= [[0.33, 0.34, 0.33], [0.33, 0.34, 0.33], [0.33, 0.34, 0.33], [0.33, 0.34, 0.33], [0.33, 0.34, 0.33], [0.33, 0.34, 0.33], [0.33, 0.34, 0.33], [0.33, 0.34, 0.33], [0.33, 0.34, 0.33], [0.33, 0.34, 0.33], [0.33, 0.34, 0.33], [0.33, 0.34, 0.33], [0.33, 0.34, 0.33], [0.33, 0.34, 0.33], [0.33, 0.34, 0.33], [0.33, 0.34, 0.33]]\n",
      "changes tensor([[ 0.,  0., -1.,  0.,  0., -1., -1., -1.],\n",
      "        [-1.,  0., -1.,  1., -1.,  0.,  0.,  1.]])\n",
      "delta_changes tensor([[ 0.0000,  0.0000, -0.1000,  0.0000,  0.0000, -0.1000, -0.1000, -0.1000],\n",
      "        [-0.1000,  0.0000, -0.1000,  0.1000, -0.1000,  0.0000,  0.0000,  0.1000]])\n",
      "Changed wt =  tensor([[ 0.0435, -0.2281,  0.1225, -0.1205, -0.1896,  0.1002,  0.1506, -0.3820],\n",
      "        [-0.3208,  0.3048, -0.3900, -0.0304,  0.2128, -0.1742,  0.1689,  0.1285]])\n",
      "0.0001 0.1 100000 Running all epochs here\n",
      "Best Accuracy at the end  tensor(0.7143)\n",
      "probabs= [[0.33343333333333297, 0.33828333333333355, 0.32828333333333354], [0.33173333333333316, 0.33913333333333345, 0.32913333333333344], [0.326966666666667, 0.3415166666666665, 0.3315166666666665], [0.3282666666666669, 0.3408666666666666, 0.3308666666666666], [0.32813333333333355, 0.34093333333333325, 0.33093333333333325], [0.3282666666666669, 0.3408666666666666, 0.3308666666666666], [0.32736666666666697, 0.34131666666666655, 0.33131666666666654], [0.32776666666666693, 0.34111666666666657, 0.33111666666666656], [0.3343666666666662, 0.33781666666666693, 0.3278166666666669], [0.33429999999999954, 0.33785000000000026, 0.32785000000000025], [0.33013333333333333, 0.33993333333333337, 0.32993333333333336], [0.3279666666666669, 0.3410166666666666, 0.33101666666666657], [0.32946666666666674, 0.34026666666666666, 0.33026666666666665], [0.3300666666666667, 0.3399666666666667, 0.3299666666666667], [0.3275333333333336, 0.3412333333333332, 0.3312333333333332], [0.32746666666666696, 0.34126666666666655, 0.33126666666666654]]\n",
      "changes= tensor([[ 1.,  0., -1., -1.,  1., -1.,  1.,  0.],\n",
      "        [-1., -1., -1.,  1.,  0.,  0.,  1., -1.]])\n"
     ]
    },
    {
     "data": {
      "image/png": "[encoded data removed]",
      "text/plain": [
       "<Figure size 432x288 with 1 Axes>"
      ]
     },
     "metadata": {
      "needs_background": "light"
     },
     "output_type": "display_data"
    },
    {
     "name": "stdout",
     "output_type": "stream",
     "text": [
      "********************\n",
      "initial_weights= tensor([[ 0.0435, -0.2281,  0.2225, -0.1205, -0.1896,  0.2002,  0.2506, -0.2820],\n",
      "        [-0.2208,  0.3048, -0.2900, -0.1304,  0.3128, -0.1742,  0.1689,  0.0285]])\n",
      "Initial acc is  tensor(0.3713)\n",
      "for each wts initial probabs= [[0.33, 0.34, 0.33], [0.33, 0.34, 0.33], [0.33, 0.34, 0.33], [0.33, 0.34, 0.33], [0.33, 0.34, 0.33], [0.33, 0.34, 0.33], [0.33, 0.34, 0.33], [0.33, 0.34, 0.33], [0.33, 0.34, 0.33], [0.33, 0.34, 0.33], [0.33, 0.34, 0.33], [0.33, 0.34, 0.33], [0.33, 0.34, 0.33], [0.33, 0.34, 0.33], [0.33, 0.34, 0.33], [0.33, 0.34, 0.33]]\n",
      "changes tensor([[ 0.,  1.,  0.,  0.,  1.,  0.,  1.,  1.],\n",
      "        [-1.,  1., -1., -1., -1., -1.,  0.,  1.]])\n",
      "delta_changes tensor([[ 0.0000,  0.0100,  0.0000,  0.0000,  0.0100,  0.0000,  0.0100,  0.0100],\n",
      "        [-0.0100,  0.0100, -0.0100, -0.0100, -0.0100, -0.0100,  0.0000,  0.0100]])\n",
      "Changed wt =  tensor([[ 0.0435, -0.2181,  0.2225, -0.1205, -0.1796,  0.2002,  0.2606, -0.2720],\n",
      "        [-0.2308,  0.3148, -0.3000, -0.1404,  0.3028, -0.1842,  0.1689,  0.0385]])\n",
      "0.0001 0.01 100000 Running all epochs here\n",
      "Best Accuracy at the end  tensor(0.7078)\n",
      "probabs= [[0.3301, 0.33995000000000003, 0.32995], [0.33439999999999953, 0.33780000000000027, 0.32780000000000026], [0.32956666666666673, 0.34021666666666667, 0.33021666666666666], [0.3270333333333337, 0.3414833333333332, 0.3314833333333332], [0.33173333333333316, 0.33913333333333345, 0.32913333333333344], [0.33196666666666647, 0.3390166666666668, 0.3290166666666668], [0.32713333333333366, 0.3414333333333332, 0.3314333333333332], [0.3305666666666666, 0.3397166666666667, 0.3297166666666667], [0.3308999999999999, 0.3395500000000001, 0.32955000000000007], [0.3329999999999997, 0.3385000000000002, 0.3285000000000002], [0.32790000000000025, 0.3410499999999999, 0.3310499999999999], [0.3275000000000003, 0.3412499999999999, 0.3312499999999999], [0.3288666666666668, 0.34056666666666663, 0.3305666666666666], [0.33049999999999996, 0.33975000000000005, 0.32975000000000004], [0.3328999999999997, 0.3385500000000002, 0.3285500000000002], [0.32846666666666685, 0.3407666666666666, 0.3307666666666666]]\n",
      "changes= tensor([[-1.,  1.,  1.,  0., -1.,  1.,  0., -1.],\n",
      "        [ 1.,  1., -1., -1.,  1., -1.,  0.,  0.]])\n"
     ]
    },
    {
     "data": {
      "image/png": "[encoded data removed]",
      "text/plain": [
       "<Figure size 432x288 with 1 Axes>"
      ]
     },
     "metadata": {
      "needs_background": "light"
     },
     "output_type": "display_data"
    },
    {
     "name": "stdout",
     "output_type": "stream",
     "text": [
      "********************\n",
      "initial_weights= tensor([[ 0.0435, -0.2281,  0.2225, -0.1205, -0.1896,  0.2002,  0.2506, -0.2820],\n",
      "        [-0.2208,  0.3048, -0.2900, -0.1304,  0.3128, -0.1742,  0.1689,  0.0285]])\n",
      "Initial acc is  tensor(0.3713)\n",
      "for each wts initial probabs= [[0.33, 0.34, 0.33], [0.33, 0.34, 0.33], [0.33, 0.34, 0.33], [0.33, 0.34, 0.33], [0.33, 0.34, 0.33], [0.33, 0.34, 0.33], [0.33, 0.34, 0.33], [0.33, 0.34, 0.33], [0.33, 0.34, 0.33], [0.33, 0.34, 0.33], [0.33, 0.34, 0.33], [0.33, 0.34, 0.33], [0.33, 0.34, 0.33], [0.33, 0.34, 0.33], [0.33, 0.34, 0.33], [0.33, 0.34, 0.33]]\n",
      "changes tensor([[-1.,  0.,  0.,  1.,  1.,  1.,  1.,  1.],\n",
      "        [ 0.,  0., -1., -1.,  1.,  1.,  1., -1.]])\n",
      "delta_changes tensor([[-0.0010,  0.0000,  0.0000,  0.0010,  0.0010,  0.0010,  0.0010,  0.0010],\n",
      "        [ 0.0000,  0.0000, -0.0010, -0.0010,  0.0010,  0.0010,  0.0010, -0.0010]])\n",
      "Changed wt =  tensor([[ 0.0425, -0.2281,  0.2225, -0.1195, -0.1886,  0.2012,  0.2516, -0.2810],\n",
      "        [-0.2208,  0.3048, -0.2910, -0.1314,  0.3138, -0.1732,  0.1699,  0.0275]])\n",
      "0.0001 0.001 100000 Running all epochs here\n",
      "Best Accuracy at the end  tensor(0.7078)\n",
      "probabs= [[0.32813333333333355, 0.34093333333333325, 0.33093333333333325], [0.33226666666666643, 0.3388666666666668, 0.3288666666666668], [0.33073333333333327, 0.3396333333333334, 0.3296333333333334], [0.32510000000000056, 0.34244999999999975, 0.33244999999999975], [0.3245666666666673, 0.3427166666666664, 0.3327166666666664], [0.33149999999999985, 0.3392500000000001, 0.3292500000000001], [0.32860000000000017, 0.34069999999999995, 0.33069999999999994], [0.32946666666666674, 0.34026666666666666, 0.33026666666666665], [0.33433333333333287, 0.3378333333333336, 0.3278333333333336], [0.33196666666666647, 0.3390166666666668, 0.3290166666666668], [0.3270333333333337, 0.3414833333333332, 0.3314833333333332], [0.32890000000000014, 0.34054999999999996, 0.33054999999999995], [0.32903333333333346, 0.3404833333333333, 0.3304833333333333], [0.3296666666666667, 0.3401666666666667, 0.33016666666666666], [0.3272000000000003, 0.34139999999999987, 0.33139999999999986], [0.33196666666666647, 0.3390166666666668, 0.3290166666666668]]\n",
      "changes= tensor([[ 0.,  0., -1.,  0.,  0.,  0.,  0.,  1.],\n",
      "        [ 1.,  1.,  0.,  1., -1.,  1.,  1., -1.]])\n"
     ]
    },
    {
     "data": {
      "image/png": "[encoded data removed]",
      "text/plain": [
       "<Figure size 432x288 with 1 Axes>"
      ]
     },
     "metadata": {
      "needs_background": "light"
     },
     "output_type": "display_data"
    },
    {
     "name": "stdout",
     "output_type": "stream",
     "text": [
      "********************\n",
      "initial_weights= tensor([[ 0.0435, -0.2281,  0.2225, -0.1205, -0.1896,  0.2002,  0.2506, -0.2820],\n",
      "        [-0.2208,  0.3048, -0.2900, -0.1304,  0.3128, -0.1742,  0.1689,  0.0285]])\n",
      "Initial acc is  tensor(0.3713)\n",
      "for each wts initial probabs= [[0.33, 0.34, 0.33], [0.33, 0.34, 0.33], [0.33, 0.34, 0.33], [0.33, 0.34, 0.33], [0.33, 0.34, 0.33], [0.33, 0.34, 0.33], [0.33, 0.34, 0.33], [0.33, 0.34, 0.33], [0.33, 0.34, 0.33], [0.33, 0.34, 0.33], [0.33, 0.34, 0.33], [0.33, 0.34, 0.33], [0.33, 0.34, 0.33], [0.33, 0.34, 0.33], [0.33, 0.34, 0.33], [0.33, 0.34, 0.33]]\n",
      "changes tensor([[-1., -1.,  1.,  0.,  0.,  1.,  0.,  0.],\n",
      "        [-1.,  1.,  0.,  0.,  0.,  0., -1.,  1.]])\n",
      "delta_changes tensor([[-1.0000e-04, -1.0000e-04,  1.0000e-04,  0.0000e+00,  0.0000e+00,\n",
      "          1.0000e-04,  0.0000e+00,  0.0000e+00],\n",
      "        [-1.0000e-04,  1.0000e-04,  0.0000e+00,  0.0000e+00,  0.0000e+00,\n",
      "          0.0000e+00, -1.0000e-04,  1.0000e-04]])\n",
      "Changed wt =  tensor([[ 0.0434, -0.2282,  0.2226, -0.1205, -0.1896,  0.2003,  0.2506, -0.2820],\n",
      "        [-0.2209,  0.3049, -0.2900, -0.1304,  0.3128, -0.1742,  0.1688,  0.0286]])\n",
      "0.0001 0.0001 100000 Running all epochs here\n",
      "Best Accuracy at the end  tensor(0.5390)\n",
      "probabs= [[0.33216666666666644, 0.3389166666666668, 0.3289166666666668], [0.34879999999999795, 0.33060000000000106, 0.32060000000000105], [0.3416999999999987, 0.33415000000000067, 0.32415000000000066], [0.3295333333333334, 0.34023333333333333, 0.3302333333333333], [0.33136666666666653, 0.33931666666666677, 0.32931666666666676], [0.3335999999999996, 0.3382000000000002, 0.3282000000000002], [0.3351333333333328, 0.33743333333333364, 0.32743333333333363], [0.3370333333333326, 0.33648333333333375, 0.32648333333333374], [0.32893333333333347, 0.3405333333333333, 0.3305333333333333], [0.31686666666666813, 0.34656666666666597, 0.33656666666666596], [0.32463333333333394, 0.34268333333333306, 0.33268333333333305], [0.3285000000000002, 0.34074999999999994, 0.33074999999999993], [0.3253666666666672, 0.34231666666666644, 0.3323166666666664], [0.3291000000000001, 0.34045, 0.33044999999999997], [0.333033333333333, 0.3384833333333335, 0.3284833333333335], [0.3237000000000007, 0.3431499999999997, 0.33314999999999967]]\n",
      "changes= tensor([[-1.,  0.,  1.,  1.,  0.,  0.,  1.,  1.],\n",
      "        [ 0., -1., -1., -1., -1.,  0., -1.,  0.]])\n"
     ]
    },
    {
     "data": {
      "image/png": "[encoded data removed]",
      "text/plain": [
       "<Figure size 432x288 with 1 Axes>"
      ]
     },
     "metadata": {
      "needs_background": "light"
     },
     "output_type": "display_data"
    },
    {
     "name": "stdout",
     "output_type": "stream",
     "text": [
      "********************\n",
      "initial_weights= tensor([[ 0.0435, -0.2281,  0.2225, -0.1205, -0.1896,  0.2002,  0.2506, -0.2820],\n",
      "        [-0.2208,  0.3048, -0.2900, -0.1304,  0.3128, -0.1742,  0.1689,  0.0285]])\n",
      "Initial acc is  tensor(0.3713)\n",
      "for each wts initial probabs= [[0.33, 0.34, 0.33], [0.33, 0.34, 0.33], [0.33, 0.34, 0.33], [0.33, 0.34, 0.33], [0.33, 0.34, 0.33], [0.33, 0.34, 0.33], [0.33, 0.34, 0.33], [0.33, 0.34, 0.33], [0.33, 0.34, 0.33], [0.33, 0.34, 0.33], [0.33, 0.34, 0.33], [0.33, 0.34, 0.33], [0.33, 0.34, 0.33], [0.33, 0.34, 0.33], [0.33, 0.34, 0.33], [0.33, 0.34, 0.33]]\n",
      "changes tensor([[ 0.,  1.,  0., -1., -1.,  0.,  0.,  0.],\n",
      "        [ 1.,  1.,  1.,  1.,  1., -1., -1.,  0.]])\n",
      "delta_changes tensor([[ 0.0000e+00,  1.0000e-05,  0.0000e+00, -1.0000e-05, -1.0000e-05,\n",
      "          0.0000e+00,  0.0000e+00,  0.0000e+00],\n",
      "        [ 1.0000e-05,  1.0000e-05,  1.0000e-05,  1.0000e-05,  1.0000e-05,\n",
      "         -1.0000e-05, -1.0000e-05,  0.0000e+00]])\n",
      "Changed wt =  tensor([[ 0.0435, -0.2281,  0.2225, -0.1205, -0.1896,  0.2002,  0.2506, -0.2820],\n",
      "        [-0.2208,  0.3048, -0.2900, -0.1304,  0.3128, -0.1742,  0.1689,  0.0285]])\n",
      "0.0001 1e-05 100000 Running all epochs here\n",
      "Best Accuracy at the end  tensor(0.3442)\n",
      "probabs= [[0.33003333333333335, 0.33998333333333336, 0.32998333333333335], [0.3305666666666666, 0.3397166666666667, 0.3297166666666667], [0.3297666666666667, 0.3401166666666667, 0.33011666666666667], [0.33163333333333317, 0.33918333333333345, 0.32918333333333344], [0.3290666666666668, 0.34046666666666664, 0.33046666666666663], [0.3292000000000001, 0.3404, 0.33039999999999997], [0.3278333333333336, 0.34108333333333324, 0.33108333333333323], [0.3261333333333338, 0.34193333333333314, 0.33193333333333314], [0.3276333333333336, 0.3411833333333332, 0.3311833333333332], [0.3282666666666669, 0.3408666666666666, 0.3308666666666666], [0.32970000000000005, 0.34015, 0.33015], [0.32880000000000015, 0.34059999999999996, 0.33059999999999995], [0.3296666666666667, 0.3401666666666667, 0.33016666666666666], [0.33073333333333327, 0.3396333333333334, 0.3296333333333334], [0.3306333333333333, 0.3396833333333334, 0.3296833333333334], [0.3332666666666663, 0.33836666666666687, 0.32836666666666686]]\n",
      "changes= tensor([[ 1., -1., -1., -1.,  0.,  0.,  0.,  1.],\n",
      "        [-1.,  1., -1., -1., -1., -1.,  0.,  0.]])\n"
     ]
    },
    {
     "data": {
      "image/png": "[encoded data removed]",
      "text/plain": [
       "<Figure size 432x288 with 1 Axes>"
      ]
     },
     "metadata": {
      "needs_background": "light"
     },
     "output_type": "display_data"
    },
    {
     "name": "stdout",
     "output_type": "stream",
     "text": [
      "********************\n",
      "initial_weights= tensor([[ 0.0435, -0.2281,  0.2225, -0.1205, -0.1896,  0.2002,  0.2506, -0.2820],\n",
      "        [-0.2208,  0.3048, -0.2900, -0.1304,  0.3128, -0.1742,  0.1689,  0.0285]])\n",
      "Initial acc is  tensor(0.3713)\n",
      "for each wts initial probabs= [[0.33, 0.34, 0.33], [0.33, 0.34, 0.33], [0.33, 0.34, 0.33], [0.33, 0.34, 0.33], [0.33, 0.34, 0.33], [0.33, 0.34, 0.33], [0.33, 0.34, 0.33], [0.33, 0.34, 0.33], [0.33, 0.34, 0.33], [0.33, 0.34, 0.33], [0.33, 0.34, 0.33], [0.33, 0.34, 0.33], [0.33, 0.34, 0.33], [0.33, 0.34, 0.33], [0.33, 0.34, 0.33], [0.33, 0.34, 0.33]]\n",
      "changes tensor([[ 1., -1., -1.,  1., -1., -1.,  0.,  1.],\n",
      "        [-1., -1.,  0., -1., -1.,  0., -1.,  0.]])\n",
      "delta_changes tensor([[ 0.1000, -0.1000, -0.1000,  0.1000, -0.1000, -0.1000,  0.0000,  0.1000],\n",
      "        [-0.1000, -0.1000,  0.0000, -0.1000, -0.1000,  0.0000, -0.1000,  0.0000]])\n",
      "Changed wt =  tensor([[ 0.1435, -0.3281,  0.1225, -0.0205, -0.2896,  0.1002,  0.2506, -0.1820],\n",
      "        [-0.3208,  0.2048, -0.2900, -0.2304,  0.2128, -0.1742,  0.0689,  0.0285]])\n",
      "1e-05 0.1 100000 Running all epochs here\n",
      "Best Accuracy at the end  tensor(0.7403)\n",
      "probabs= [[0.3297399999999983, 0.3401300000000009, 0.33013000000000087], [0.33264333333335067, 0.3386783333333247, 0.3286783333333247], [0.33173000000001135, 0.33913499999999436, 0.32913499999999435], [0.3300366666666669, 0.33998166666666657, 0.32998166666666656], [0.3307900000000052, 0.33960499999999744, 0.32960499999999743], [0.3300766666666672, 0.33996166666666644, 0.32996166666666643], [0.33094333333333953, 0.33952833333333027, 0.32952833333333026], [0.32962666666666424, 0.3401866666666679, 0.3301866666666679], [0.3305233333333368, 0.33973833333333164, 0.32973833333333163], [0.3276133333333177, 0.3411933333333412, 0.33119333333334117], [0.32827333333332204, 0.340863333333339, 0.330863333333339], [0.32895666666665985, 0.3405216666666701, 0.3305216666666701], [0.3301733333333345, 0.3399133333333328, 0.3299133333333328], [0.3302233333333348, 0.3398883333333326, 0.3298883333333326], [0.32957333333333055, 0.34021333333333476, 0.33021333333333475], [0.32876999999999196, 0.34061500000000405, 0.33061500000000404]]\n",
      "changes= tensor([[-1., -1., -1., -1., -1.,  1.,  0., -1.],\n",
      "        [ 1.,  1., -1.,  1.,  0.,  0., -1.,  0.]])\n"
     ]
    },
    {
     "data": {
      "image/png": "[encoded data removed]",
      "text/plain": [
       "<Figure size 432x288 with 1 Axes>"
      ]
     },
     "metadata": {
      "needs_background": "light"
     },
     "output_type": "display_data"
    },
    {
     "name": "stdout",
     "output_type": "stream",
     "text": [
      "********************\n",
      "initial_weights= tensor([[ 0.0435, -0.2281,  0.2225, -0.1205, -0.1896,  0.2002,  0.2506, -0.2820],\n",
      "        [-0.2208,  0.3048, -0.2900, -0.1304,  0.3128, -0.1742,  0.1689,  0.0285]])\n",
      "Initial acc is  tensor(0.3713)\n",
      "for each wts initial probabs= [[0.33, 0.34, 0.33], [0.33, 0.34, 0.33], [0.33, 0.34, 0.33], [0.33, 0.34, 0.33], [0.33, 0.34, 0.33], [0.33, 0.34, 0.33], [0.33, 0.34, 0.33], [0.33, 0.34, 0.33], [0.33, 0.34, 0.33], [0.33, 0.34, 0.33], [0.33, 0.34, 0.33], [0.33, 0.34, 0.33], [0.33, 0.34, 0.33], [0.33, 0.34, 0.33], [0.33, 0.34, 0.33], [0.33, 0.34, 0.33]]\n",
      "changes tensor([[-1.,  0.,  1.,  0.,  1., -1.,  0.,  1.],\n",
      "        [-1.,  0., -1.,  1.,  0., -1., -1.,  1.]])\n",
      "delta_changes tensor([[-0.0100,  0.0000,  0.0100,  0.0000,  0.0100, -0.0100,  0.0000,  0.0100],\n",
      "        [-0.0100,  0.0000, -0.0100,  0.0100,  0.0000, -0.0100, -0.0100,  0.0100]])\n",
      "Changed wt =  tensor([[ 0.0335, -0.2281,  0.2325, -0.1205, -0.1796,  0.1902,  0.2506, -0.2720],\n",
      "        [-0.2308,  0.3048, -0.3000, -0.1204,  0.3128, -0.1842,  0.1589,  0.0385]])\n",
      "1e-05 0.01 100000 Running all epochs here\n",
      "Best Accuracy at the end  tensor(0.7078)\n",
      "probabs= [[0.33001333333333344, 0.3399933333333333, 0.3299933333333333], [0.3335266666666898, 0.33823666666665514, 0.32823666666665513], [0.33437666666669535, 0.33781166666665235, 0.32781166666665235], [0.33122333333334136, 0.33938833333332935, 0.32938833333332934], [0.3314966666666765, 0.3392516666666618, 0.3292516666666618], [0.33249000000001633, 0.33875499999999187, 0.32875499999999186], [0.3311300000000074, 0.3394349999999963, 0.3294349999999963], [0.3325733333333502, 0.33871333333332493, 0.3287133333333249], [0.3297999999999987, 0.3401000000000007, 0.33010000000000067], [0.325213333333302, 0.34239333333334904, 0.33239333333334903], [0.32731999999998246, 0.3413400000000088, 0.3313400000000088], [0.3296966666666647, 0.3401516666666677, 0.3301516666666677], [0.3286699999999913, 0.3406650000000044, 0.33066500000000437], [0.32856999999999065, 0.3407150000000047, 0.3307150000000047], [0.3306200000000041, 0.339689999999998, 0.329689999999998], [0.3276666666666514, 0.34116666666667433, 0.3311666666666743]]\n",
      "changes= tensor([[-1.,  1.,  0.,  1., -1.,  1.,  1., -1.],\n",
      "        [-1.,  0., -1., -1.,  1.,  1.,  1.,  0.]])\n"
     ]
    },
    {
     "data": {
      "image/png": "[encoded data removed]",
      "text/plain": [
       "<Figure size 432x288 with 1 Axes>"
      ]
     },
     "metadata": {
      "needs_background": "light"
     },
     "output_type": "display_data"
    },
    {
     "name": "stdout",
     "output_type": "stream",
     "text": [
      "********************\n",
      "initial_weights= tensor([[ 0.0435, -0.2281,  0.2225, -0.1205, -0.1896,  0.2002,  0.2506, -0.2820],\n",
      "        [-0.2208,  0.3048, -0.2900, -0.1304,  0.3128, -0.1742,  0.1689,  0.0285]])\n",
      "Initial acc is  tensor(0.3713)\n",
      "for each wts initial probabs= [[0.33, 0.34, 0.33], [0.33, 0.34, 0.33], [0.33, 0.34, 0.33], [0.33, 0.34, 0.33], [0.33, 0.34, 0.33], [0.33, 0.34, 0.33], [0.33, 0.34, 0.33], [0.33, 0.34, 0.33], [0.33, 0.34, 0.33], [0.33, 0.34, 0.33], [0.33, 0.34, 0.33], [0.33, 0.34, 0.33], [0.33, 0.34, 0.33], [0.33, 0.34, 0.33], [0.33, 0.34, 0.33], [0.33, 0.34, 0.33]]\n",
      "changes tensor([[-1.,  1.,  0., -1.,  0.,  0.,  1., -1.],\n",
      "        [ 1.,  1.,  0., -1.,  0.,  1.,  0., -1.]])\n",
      "delta_changes tensor([[-0.0010,  0.0010,  0.0000, -0.0010,  0.0000,  0.0000,  0.0010, -0.0010],\n",
      "        [ 0.0010,  0.0010,  0.0000, -0.0010,  0.0000,  0.0010,  0.0000, -0.0010]])\n",
      "Changed wt =  tensor([[ 0.0425, -0.2271,  0.2225, -0.1215, -0.1896,  0.2002,  0.2516, -0.2830],\n",
      "        [-0.2198,  0.3058, -0.2900, -0.1314,  0.3128, -0.1732,  0.1689,  0.0275]])\n",
      "1e-05 0.001 100000 Running all epochs here\n",
      "Best Accuracy at the end  tensor(0.7143)\n",
      "probabs= [[0.33035333333333566, 0.3398233333333322, 0.3298233333333322], [0.33525333333336776, 0.33737333333331615, 0.32737333333331614], [0.3321566666666808, 0.3389216666666596, 0.3289216666666596], [0.33199666666667976, 0.33900166666666015, 0.32900166666666014], [0.33132000000000866, 0.3393399999999957, 0.3293399999999957], [0.3311900000000078, 0.3394049999999961, 0.3294049999999961], [0.3295566666666638, 0.34022166666666814, 0.33022166666666813], [0.3314900000000098, 0.33925499999999514, 0.32925499999999513], [0.3303600000000024, 0.33981999999999885, 0.32981999999999884], [0.324856666666633, 0.34257166666668354, 0.33257166666668353], [0.32645666666664347, 0.3417716666666783, 0.3317716666666783], [0.32881666666665893, 0.34059166666667057, 0.33059166666667056], [0.328066666666654, 0.340966666666673, 0.330966666666673], [0.3295166666666635, 0.3402416666666683, 0.33024166666666827], [0.32956666666666384, 0.3402166666666681, 0.3302166666666681], [0.3280233333333204, 0.34098833333333983, 0.3309883333333398]]\n",
      "changes= tensor([[ 0.,  0.,  1.,  1.,  0., -1.,  1.,  1.],\n",
      "        [ 0.,  1., -1.,  0., -1.,  1.,  1.,  0.]])\n"
     ]
    },
    {
     "data": {
      "image/png": "[encoded data removed]",
      "text/plain": [
       "<Figure size 432x288 with 1 Axes>"
      ]
     },
     "metadata": {
      "needs_background": "light"
     },
     "output_type": "display_data"
    },
    {
     "name": "stdout",
     "output_type": "stream",
     "text": [
      "********************\n",
      "initial_weights= tensor([[ 0.0435, -0.2281,  0.2225, -0.1205, -0.1896,  0.2002,  0.2506, -0.2820],\n",
      "        [-0.2208,  0.3048, -0.2900, -0.1304,  0.3128, -0.1742,  0.1689,  0.0285]])\n",
      "Initial acc is  tensor(0.3713)\n",
      "for each wts initial probabs= [[0.33, 0.34, 0.33], [0.33, 0.34, 0.33], [0.33, 0.34, 0.33], [0.33, 0.34, 0.33], [0.33, 0.34, 0.33], [0.33, 0.34, 0.33], [0.33, 0.34, 0.33], [0.33, 0.34, 0.33], [0.33, 0.34, 0.33], [0.33, 0.34, 0.33], [0.33, 0.34, 0.33], [0.33, 0.34, 0.33], [0.33, 0.34, 0.33], [0.33, 0.34, 0.33], [0.33, 0.34, 0.33], [0.33, 0.34, 0.33]]\n",
      "changes tensor([[ 1., -1., -1., -1.,  0.,  1.,  1.,  1.],\n",
      "        [-1.,  0.,  0.,  1.,  0., -1.,  1.,  1.]])\n",
      "delta_changes tensor([[ 1.0000e-04, -1.0000e-04, -1.0000e-04, -1.0000e-04,  0.0000e+00,\n",
      "          1.0000e-04,  1.0000e-04,  1.0000e-04],\n",
      "        [-1.0000e-04,  0.0000e+00,  0.0000e+00,  1.0000e-04,  0.0000e+00,\n",
      "         -1.0000e-04,  1.0000e-04,  1.0000e-04]])\n",
      "Changed wt =  tensor([[ 0.0436, -0.2282,  0.2224, -0.1206, -0.1896,  0.2003,  0.2507, -0.2819],\n",
      "        [-0.2209,  0.3048, -0.2900, -0.1303,  0.3128, -0.1743,  0.1690,  0.0286]])\n",
      "1e-05 0.0001 100000 Running all epochs here\n",
      "Best Accuracy at the end  tensor(0.3506)\n",
      "probabs= [[0.33066000000000434, 0.33966999999999786, 0.32966999999999785], [0.3315633333333436, 0.33921833333332824, 0.32921833333332823], [0.33133000000000873, 0.33933499999999567, 0.32933499999999566], [0.3302400000000016, 0.33987999999999924, 0.32987999999999923], [0.33052666666667013, 0.33973666666666497, 0.32973666666666496], [0.33031000000000205, 0.339844999999999, 0.329844999999999], [0.3291399999999944, 0.34043000000000284, 0.33043000000000283], [0.33006333333333376, 0.33996833333333315, 0.32996833333333314], [0.33012333333333416, 0.33993833333333295, 0.32993833333333294], [0.3292366666666617, 0.3403816666666692, 0.3303816666666692], [0.32867333333332466, 0.3406633333333377, 0.3306633333333377], [0.3296499999999977, 0.34017500000000117, 0.33017500000000116], [0.33138000000000906, 0.3393099999999955, 0.3293099999999955], [0.32951333333333016, 0.34024333333333495, 0.33024333333333494], [0.33069000000000454, 0.33965499999999776, 0.32965499999999776], [0.32955999999999713, 0.34022000000000147, 0.33022000000000146]]\n",
      "changes= tensor([[ 1.,  1.,  1.,  0.,  0.,  0., -1.,  1.],\n",
      "        [ 0.,  1.,  0., -1.,  0., -1.,  0.,  0.]])\n"
     ]
    },
    {
     "data": {
      "image/png": "[encoded data removed]",
      "text/plain": [
       "<Figure size 432x288 with 1 Axes>"
      ]
     },
     "metadata": {
      "needs_background": "light"
     },
     "output_type": "display_data"
    },
    {
     "name": "stdout",
     "output_type": "stream",
     "text": [
      "********************\n",
      "initial_weights= tensor([[ 0.0435, -0.2281,  0.2225, -0.1205, -0.1896,  0.2002,  0.2506, -0.2820],\n",
      "        [-0.2208,  0.3048, -0.2900, -0.1304,  0.3128, -0.1742,  0.1689,  0.0285]])\n",
      "Initial acc is  tensor(0.3713)\n",
      "for each wts initial probabs= [[0.33, 0.34, 0.33], [0.33, 0.34, 0.33], [0.33, 0.34, 0.33], [0.33, 0.34, 0.33], [0.33, 0.34, 0.33], [0.33, 0.34, 0.33], [0.33, 0.34, 0.33], [0.33, 0.34, 0.33], [0.33, 0.34, 0.33], [0.33, 0.34, 0.33], [0.33, 0.34, 0.33], [0.33, 0.34, 0.33], [0.33, 0.34, 0.33], [0.33, 0.34, 0.33], [0.33, 0.34, 0.33], [0.33, 0.34, 0.33]]\n",
      "changes tensor([[ 0.,  0.,  1., -1.,  1.,  1.,  0.,  0.],\n",
      "        [ 1., -1.,  1., -1.,  1.,  1.,  0., -1.]])\n",
      "delta_changes tensor([[ 0.0000e+00,  0.0000e+00,  1.0000e-05, -1.0000e-05,  1.0000e-05,\n",
      "          1.0000e-05,  0.0000e+00,  0.0000e+00],\n",
      "        [ 1.0000e-05, -1.0000e-05,  1.0000e-05, -1.0000e-05,  1.0000e-05,\n",
      "          1.0000e-05,  0.0000e+00, -1.0000e-05]])\n",
      "Changed wt =  tensor([[ 0.0435, -0.2281,  0.2225, -0.1205, -0.1896,  0.2002,  0.2506, -0.2820],\n",
      "        [-0.2208,  0.3048, -0.2900, -0.1304,  0.3128, -0.1742,  0.1689,  0.0285]])\n",
      "1e-05 1e-05 100000 Running all epochs here\n",
      "Best Accuracy at the end  tensor(0.3506)\n",
      "probabs= [[0.33030333333333534, 0.33984833333333236, 0.32984833333333236], [0.32908999999999405, 0.340455000000003, 0.330455000000003], [0.330403333333336, 0.33979833333333204, 0.329798333333332], [0.3292966666666621, 0.340351666666669, 0.330351666666669], [0.33147000000000965, 0.3392649999999952, 0.3292649999999952], [0.3286633333333246, 0.34066833333333774, 0.3306683333333377], [0.32888333333332603, 0.340558333333337, 0.330558333333337], [0.3299699999999998, 0.3400150000000001, 0.3300150000000001], [0.32976666666666515, 0.34011666666666746, 0.33011666666666745], [0.32995999999999975, 0.34002000000000016, 0.33002000000000015], [0.3299933333333333, 0.3400033333333334, 0.33000333333333337], [0.329436666666663, 0.34028166666666854, 0.3302816666666685], [0.3309233333333394, 0.33953833333333033, 0.3295383333333303], [0.33015333333333435, 0.33992333333333286, 0.32992333333333285], [0.3301866666666679, 0.3399066666666661, 0.32990666666666607], [0.33019000000000126, 0.3399049999999994, 0.3299049999999994]]\n",
      "changes= tensor([[ 1., -1.,  1.,  1.,  0.,  1.,  0., -1.],\n",
      "        [ 0.,  1.,  0.,  0.,  0.,  1., -1.,  0.]])\n"
     ]
    },
    {
     "data": {
      "image/png": "[encoded data removed]",
      "text/plain": [
       "<Figure size 432x288 with 1 Axes>"
      ]
     },
     "metadata": {
      "needs_background": "light"
     },
     "output_type": "display_data"
    },
    {
     "name": "stdout",
     "output_type": "stream",
     "text": [
      "********************\n"
     ]
    }
   ],
   "source": [
    "num_weights=16\n",
    "\n",
    "dic_res={}\n",
    "dic_res[\"epsilon_prob\"]=[]\n",
    "dic_res[\"delta\"]=[]\n",
    "dic_res[\"epochs\"]=[]\n",
    "dic_res[\"best_acc\"]=[]\n",
    "dic_res[\"best_acc_weights\"]=[]\n",
    "\n",
    "\n",
    "\n",
    "\n",
    "epsilon_prob_list=[0.1,0.01,0.001,0.0001,0.00001]\n",
    "delta_list=[0.1,0.01,0.001,0.0001,0.00001]\n",
    "epochs=100000\n",
    "\n",
    "for epsilon_prob in epsilon_prob_list:\n",
    "    for delta in delta_list:\n",
    "\n",
    "\n",
    "        initial_weights=torch.FloatTensor([[ 0.0435, -0.2281,  0.2225, -0.1205, -0.1896,  0.2002,  0.2506, -0.2820],\n",
    "                [-0.2208,  0.3048, -0.2900, -0.1304,  0.3128, -0.1742,  0.1689,  0.0285]])\n",
    "\n",
    "        print(\"initial_weights=\",initial_weights)\n",
    "        outs=torch.matmul(initial_weights,X_train.T)\n",
    "        outs=outs.T\n",
    "        initial_acc=accuracy(outs, y_train)\n",
    "\n",
    "        print(\"Initial acc is \",initial_acc)\n",
    "\n",
    "        options=[1,0,-1]\n",
    "        initial_probabs=[[0.33,0.34,0.33] for i in range(num_weights)]\n",
    "        print(\"for each wts initial probabs=\",initial_probabs)\n",
    "\n",
    "        # epsilon_prob=random.uniform(0.01,np.min(np.array(initial_probabs)))\n",
    "        # print(\"epsilon_prob=\",epsilon_prob)\n",
    "        changes=[]\n",
    "        for i in range(num_weights):\n",
    "            choice=random.choices(options,weights=initial_probabs[i],k=1)[0]\n",
    "            changes.append(choice)    \n",
    "\n",
    "        changes=torch.FloatTensor(changes).reshape(initial_weights.shape)    \n",
    "        print(\"changes\",changes)\n",
    "        delta_changes=changes*delta\n",
    "        print(\"delta_changes\",delta_changes)\n",
    "        new_weights=initial_weights+delta_changes\n",
    "        print(\"Changed wt = \",new_weights)\n",
    "        print(epsilon_prob,delta,epochs,\"Running all epochs here\")\n",
    "        best_acc=-1\n",
    "        best_acc_weights=None\n",
    "        best_epoch=0\n",
    "        history=[]\n",
    "        for count in range(epochs):\n",
    "        #     #calc training acc\n",
    "            outs=torch.matmul(new_weights,X_train.T)\n",
    "            outs=outs.T\n",
    "            acc=accuracy(outs, y_train)\n",
    "\n",
    "        #     #calc val acc\n",
    "            outs_val=torch.matmul(new_weights,X_test.T)\n",
    "            outs_val=outs_val.T\n",
    "            acc_val=accuracy(outs_val, y_test)\n",
    "            if best_acc<acc_val:\n",
    "                best_acc=acc_val\n",
    "                best_acc_weights=new_weights\n",
    "                best_epoch=count\n",
    "\n",
    "#             if count%1000==0:                \n",
    "#                 print(epsilon_prob,delta,\"Training Acc #\",count,\"is \",acc,\"Val Acc is \",acc_val)\n",
    "\n",
    "            if acc>initial_acc:\n",
    "        #         keep going in the same direction    \n",
    "                for i in range(len(changes)):\n",
    "                    for j in range(len(changes[i])):\n",
    "                        indx=i*len(changes[i])+j\n",
    "                        if changes[i][j]==1:\n",
    "                            initial_probabs[indx][0]+=epsilon_prob/3\n",
    "                            initial_probabs[indx][1]-=epsilon_prob/6\n",
    "                            initial_probabs[indx][2]-=epsilon_prob/6                    \n",
    "                        elif changes[i][j]==-1:\n",
    "                            initial_probabs[indx][0]-=epsilon_prob/3\n",
    "                            initial_probabs[indx][1]+=epsilon_prob/6\n",
    "                            initial_probabs[indx][2]+=epsilon_prob/6\n",
    "        #                 elif changes[i][j]==0:\n",
    "            elif acc<initial_acc:\n",
    "                for i in range(len(changes)):\n",
    "                    for j in range(len(changes[i])):\n",
    "                        indx=i*len(changes[i])+j\n",
    "                        if changes[i][j]==1:\n",
    "                            initial_probabs[indx][0]-=epsilon_prob/3\n",
    "                            initial_probabs[indx][1]+=epsilon_prob/6\n",
    "                            initial_probabs[indx][2]+=epsilon_prob/6\n",
    "                            changes[i][j]=-1\n",
    "                        elif changes[i][j]==-1:\n",
    "                            initial_probabs[indx][0]+=epsilon_prob/3\n",
    "                            initial_probabs[indx][1]-=epsilon_prob/6\n",
    "                            initial_probabs[indx][2]-=epsilon_prob/6                    \n",
    "                            changes[i][j]=1\n",
    "        #                 elif changes[i][j]==0:    \n",
    "            elif acc==initial_acc:\n",
    "                for i in range(len(changes)):\n",
    "                    for j in range(len(changes[i])):\n",
    "                        indx=i*len(changes[i])+j\n",
    "                        if changes[i][j]==1:\n",
    "                            initial_probabs[indx][0]-=epsilon_prob/3\n",
    "                            initial_probabs[indx][1]+=epsilon_prob/6\n",
    "                            initial_probabs[indx][2]+=epsilon_prob/6\n",
    "                            changes[i][j]=-1\n",
    "                        elif changes[i][j]==-1:\n",
    "                            initial_probabs[indx][0]+=epsilon_prob/3\n",
    "                            initial_probabs[indx][1]-=epsilon_prob/6\n",
    "                            initial_probabs[indx][2]-=epsilon_prob/6                    \n",
    "                            changes[i][j]=1\n",
    "            history.append(acc_val)\n",
    "            changes=[]\n",
    "            for i in range(num_weights):\n",
    "                choice=random.choices(options,weights=initial_probabs[i],k=1)[0]\n",
    "                changes.append(choice)           \n",
    "            changes=torch.FloatTensor(changes).reshape(initial_weights.shape)          \n",
    "            delta_changes=changes*delta\n",
    "            new_weights=new_weights+delta_changes\n",
    "            initial_acc=acc\n",
    "        print(\"Best Accuracy at the end \",best_acc)             \n",
    "        print(\"probabs=\",initial_probabs)\n",
    "        print(\"changes=\",changes)\n",
    "        dic_res[\"epsilon_prob\"].append(epsilon_prob)\n",
    "        dic_res[\"delta\"].append(delta)\n",
    "        dic_res[\"epochs\"].append(best_epoch)\n",
    "        dic_res[\"best_acc\"].append(best_acc.detach())\n",
    "        dic_res[\"best_acc_weights\"].append(best_acc_weights)\n",
    "\n",
    "\n",
    "    #     print(\"Best weights\",best_acc_weights)\n",
    "    #     print(\"Best epoch\",best_epoch)\n",
    "    #     print(\"Final proba = \",initial_probabs)\n",
    "\n",
    "        plt.plot(history)\n",
    "        plt.show()\n",
    "        print(\"*\"*20)\n"
   ]
  },
  {
   "cell_type": "code",
   "execution_count": 75,
   "metadata": {},
   "outputs": [
    {
     "data": {
      "text/html": [
       "<div>\n",
       "<style scoped>\n",
       "    .dataframe tbody tr th:only-of-type {\n",
       "        vertical-align: middle;\n",
       "    }\n",
       "\n",
       "    .dataframe tbody tr th {\n",
       "        vertical-align: top;\n",
       "    }\n",
       "\n",
       "    .dataframe thead th {\n",
       "        text-align: right;\n",
       "    }\n",
       "</style>\n",
       "<table border=\"1\" class=\"dataframe\">\n",
       "  <thead>\n",
       "    <tr style=\"text-align: right;\">\n",
       "      <th></th>\n",
       "      <th>epsilon_prob</th>\n",
       "      <th>delta</th>\n",
       "      <th>epochs</th>\n",
       "      <th>best_acc</th>\n",
       "      <th>best_acc_weights</th>\n",
       "    </tr>\n",
       "  </thead>\n",
       "  <tbody>\n",
       "    <tr>\n",
       "      <th>2</th>\n",
       "      <td>0.10000</td>\n",
       "      <td>0.001</td>\n",
       "      <td>27785</td>\n",
       "      <td>tensor(0.7532)</td>\n",
       "      <td>[[tensor(-0.0985), tensor(-0.0201), tensor(0.6...</td>\n",
       "    </tr>\n",
       "    <tr>\n",
       "      <th>10</th>\n",
       "      <td>0.00100</td>\n",
       "      <td>0.100</td>\n",
       "      <td>421</td>\n",
       "      <td>tensor(0.7468)</td>\n",
       "      <td>[[tensor(1.6435), tensor(-1.1281), tensor(2.32...</td>\n",
       "    </tr>\n",
       "    <tr>\n",
       "      <th>20</th>\n",
       "      <td>0.00001</td>\n",
       "      <td>0.100</td>\n",
       "      <td>3513</td>\n",
       "      <td>tensor(0.7403)</td>\n",
       "      <td>[[tensor(0.4435), tensor(0.3719), tensor(1.622...</td>\n",
       "    </tr>\n",
       "    <tr>\n",
       "      <th>0</th>\n",
       "      <td>0.10000</td>\n",
       "      <td>0.100</td>\n",
       "      <td>72</td>\n",
       "      <td>tensor(0.7143)</td>\n",
       "      <td>[[tensor(1.0435), tensor(1.9719), tensor(1.622...</td>\n",
       "    </tr>\n",
       "    <tr>\n",
       "      <th>22</th>\n",
       "      <td>0.00001</td>\n",
       "      <td>0.001</td>\n",
       "      <td>47923</td>\n",
       "      <td>tensor(0.7143)</td>\n",
       "      <td>[[tensor(0.1605), tensor(0.0249), tensor(0.476...</td>\n",
       "    </tr>\n",
       "  </tbody>\n",
       "</table>\n",
       "</div>"
      ],
      "text/plain": [
       "    epsilon_prob  delta  epochs        best_acc  \\\n",
       "2        0.10000  0.001   27785  tensor(0.7532)   \n",
       "10       0.00100  0.100     421  tensor(0.7468)   \n",
       "20       0.00001  0.100    3513  tensor(0.7403)   \n",
       "0        0.10000  0.100      72  tensor(0.7143)   \n",
       "22       0.00001  0.001   47923  tensor(0.7143)   \n",
       "\n",
       "                                     best_acc_weights  \n",
       "2   [[tensor(-0.0985), tensor(-0.0201), tensor(0.6...  \n",
       "10  [[tensor(1.6435), tensor(-1.1281), tensor(2.32...  \n",
       "20  [[tensor(0.4435), tensor(0.3719), tensor(1.622...  \n",
       "0   [[tensor(1.0435), tensor(1.9719), tensor(1.622...  \n",
       "22  [[tensor(0.1605), tensor(0.0249), tensor(0.476...  "
      ]
     },
     "execution_count": 75,
     "metadata": {},
     "output_type": "execute_result"
    }
   ],
   "source": [
    "df=pd.DataFrame(dic_res)\n",
    "df=df.sort_values([\"best_acc\"],ascending=False)\n",
    "df.head()\n"
   ]
  },
  {
   "cell_type": "code",
   "execution_count": 76,
   "metadata": {},
   "outputs": [],
   "source": [
    "df.to_csv(\"result_sheets/prelim.csv\",index=False)"
   ]
  },
  {
   "cell_type": "code",
   "execution_count": null,
   "metadata": {
    "scrolled": true
   },
   "outputs": [],
   "source": [
    "num_weights=16\n",
    "\n",
    "\n",
    "dic_res={}\n",
    "dic_res[\"epsilon_prob\"]=[]\n",
    "dic_res[\"delta\"]=[]\n",
    "dic_res[\"epochs\"]=[]\n",
    "dic_res[\"best_acc\"]=[]\n",
    "dic_res[\"best_acc_weights\"]=[]\n",
    "\n",
    "\n",
    "\n",
    "epsilon_prob_list=[0.1,0.01,0.001,0.0001,0.00001,0.000001]\n",
    "\n",
    "for epsilon_prob in epsilon_prob_list:\n",
    "\n",
    "    delta_list=[0.1,0.01,0.001,0.0001,0.00001,0.000001]\n",
    "    for delta in delta_list:\n",
    "        epochs_list=[100000]\n",
    "        for epochs in epochs_list:\n",
    "\n",
    "            initial_weights=torch.FloatTensor([[ 0.0435, -0.2281,  0.2225, -0.1205, -0.1896,  0.2002,  0.2506, -0.2820],\n",
    "                    [-0.2208,  0.3048, -0.2900, -0.1304,  0.3128, -0.1742,  0.1689,  0.0285]])\n",
    "\n",
    "\n",
    "            outs=torch.matmul(initial_weights,X_train.T)\n",
    "            outs=outs.T\n",
    "            initial_acc=accuracy(outs, y_train)\n",
    "\n",
    "#             print(\"Initial acc is \",initial_acc)\n",
    "\n",
    "            initial_probabs=[[0.5,0.5] for i in range(num_weights)]\n",
    "            # print(\"for each wts initial probabs=\",initial_probabs)\n",
    "\n",
    "            options=[1,-1]\n",
    "            for i in range(num_weights):\n",
    "            #     print(initial_probabs[i])\n",
    "            #     print(len(initial_probabs[i]))\n",
    "                changes=torch.tensor(random.choices(options,weights=initial_probabs[i],k=16))\n",
    "                changes=changes*delta\n",
    "            changes=torch.FloatTensor(changes).reshape(initial_weights.shape)    \n",
    "            new_weights=initial_weights+changes\n",
    "            print(epsilon_prob,delta,epochs,\"Running all epochs here\")\n",
    "            best_acc=-1\n",
    "            best_acc_weights=None\n",
    "            best_epoch=0\n",
    "            for count in range(epochs):\n",
    "                #calc training acc\n",
    "                outs=torch.matmul(new_weights,X_train.T)\n",
    "                outs=outs.T\n",
    "                acc=accuracy(outs, y_train)\n",
    "\n",
    "                #calc val acc\n",
    "                outs_val=torch.matmul(new_weights,X_test.T)\n",
    "                outs_val=outs_val.T\n",
    "                acc_val=accuracy(outs_val, y_test)\n",
    "                if best_acc<acc_val:\n",
    "                    best_acc=acc_val\n",
    "                    best_acc_weights=new_weights\n",
    "                    best_epoch=count\n",
    "#                 if count%100==0:                \n",
    "#                     print(epsilon_prob,delta,\"Training Acc #\",count,\"is \",acc,\"Val Acc is \",acc_val)\n",
    "\n",
    "                if acc>initial_acc:\n",
    "            #         keep going in the same direction\n",
    "                    initial_probabs=move_in_same_direction(initial_probabs,epsilon_prob)\n",
    "                else:\n",
    "                    initial_probabs=move_in_opp_direction(initial_probabs,epsilon_prob)\n",
    "\n",
    "            #     print(\"changed probab = \",initial_probabs)\n",
    "                for i in range(num_weights):     \n",
    "\n",
    "                    changes=torch.tensor(random.choices(options,weights=initial_probabs[i],k=16))\n",
    "                    changes=changes*delta\n",
    "                changes=torch.FloatTensor(changes).reshape(initial_weights.shape)    \n",
    "                new_weights=new_weights+changes\n",
    "                initial_acc=acc\n",
    "\n",
    "            # end of all epochs\n",
    "            # add to results\n",
    "            dic_res[\"epsilon_prob\"].append(epsilon_prob)\n",
    "            dic_res[\"delta\"].append(delta)\n",
    "            dic_res[\"epochs\"].append(best_epoch)\n",
    "            dic_res[\"best_acc\"].append(best_acc.detach())\n",
    "            dic_res[\"best_acc_weights\"].append(best_acc_weights)\n",
    "\n",
    "\n",
    "    "
   ]
  },
  {
   "cell_type": "code",
   "execution_count": null,
   "metadata": {},
   "outputs": [],
   "source": [
    "df=pd.DataFrame(dic_res)\n",
    "df=df.sort_values([\"best_acc\"],ascending=False)\n",
    "df.head()\n"
   ]
  },
  {
   "cell_type": "code",
   "execution_count": null,
   "metadata": {},
   "outputs": [],
   "source": [
    "df.to_csv(\"result_sheets/prelim.csv\",index=False)"
   ]
  },
  {
   "cell_type": "code",
   "execution_count": null,
   "metadata": {},
   "outputs": [],
   "source": []
  },
  {
   "cell_type": "code",
   "execution_count": null,
   "metadata": {},
   "outputs": [],
   "source": []
  },
  {
   "cell_type": "code",
   "execution_count": null,
   "metadata": {},
   "outputs": [],
   "source": [
    "df.head()"
   ]
  },
  {
   "cell_type": "code",
   "execution_count": null,
   "metadata": {},
   "outputs": [],
   "source": []
  },
  {
   "cell_type": "code",
   "execution_count": null,
   "metadata": {},
   "outputs": [],
   "source": [
    "num_weights=16\n",
    "\n",
    "\n",
    "\n",
    "epsilon_prob_list=[0.1]\n",
    "\n",
    "for epsilon_prob in epsilon_prob_list:\n",
    "\n",
    "    delta_list=[0.10]\n",
    "    for delta in delta_list:\n",
    "        epochs_list=[500]\n",
    "        for epochs in epochs_list:\n",
    "\n",
    "            initial_weights=torch.FloatTensor([[ 0.0435, -0.2281,  0.2225, -0.1205, -0.1896,  0.2002,  0.2506, -0.2820],\n",
    "                    [-0.2208,  0.3048, -0.2900, -0.1304,  0.3128, -0.1742,  0.1689,  0.0285]])\n",
    "\n",
    "\n",
    "            outs=torch.matmul(initial_weights,X_train.T)\n",
    "            outs=outs.T\n",
    "            initial_acc=accuracy(outs, y_train)\n",
    "\n",
    "#             print(\"Initial acc is \",initial_acc)\n",
    "\n",
    "            initial_probabs=[[0.5,0.5] for i in range(num_weights)]\n",
    "            # print(\"for each wts initial probabs=\",initial_probabs)\n",
    "\n",
    "            options=[1,-1]\n",
    "            for i in range(num_weights):\n",
    "            #     print(initial_probabs[i])\n",
    "            #     print(len(initial_probabs[i]))\n",
    "                changes=torch.tensor(random.choices(options,weights=initial_probabs[i],k=16))\n",
    "                changes=changes*delta\n",
    "            changes=torch.FloatTensor(changes).reshape(initial_weights.shape)    \n",
    "            new_weights=initial_weights+changes\n",
    "            print(epsilon_prob,delta,epochs,\"Running all epochs here\")\n",
    "            best_acc=-1\n",
    "            best_acc_weights=None\n",
    "            best_epoch=0\n",
    "            for count in range(epochs):\n",
    "                #calc training acc\n",
    "                outs=torch.matmul(new_weights,X_train.T)\n",
    "                outs=outs.T\n",
    "                acc=accuracy(outs, y_train)\n",
    "\n",
    "                #calc val acc\n",
    "                outs_val=torch.matmul(new_weights,X_test.T)\n",
    "                outs_val=outs_val.T\n",
    "                acc_val=accuracy(outs_val, y_test)\n",
    "                if best_acc<acc_val:\n",
    "                    best_acc=acc_val\n",
    "                    best_acc_weights=new_weights\n",
    "                    best_epoch=count\n",
    "\n",
    "#                 if count%10000==0:                \n",
    "#                     print(epsilon_prob,delta,\"Training Acc #\",count,\"is \",acc,\"Val Acc is \",acc_val)\n",
    "\n",
    "                if acc>initial_acc:\n",
    "            #         keep going in the same direction\n",
    "                    print(\"same\")\n",
    "                    initial_probabs=move_in_same_direction(initial_probabs,epsilon_prob)\n",
    "                else:\n",
    "                    print(\"different\")\n",
    "                    initial_probabs=move_in_opp_direction(initial_probabs,epsilon_prob)\n",
    "\n",
    "            #     print(\"changed probab = \",initial_probabs)\n",
    "                for i in range(num_weights):     \n",
    "\n",
    "                    changes=torch.tensor(random.choices(options,weights=initial_probabs[i],k=16))\n",
    "                    changes=changes*delta\n",
    "                changes=torch.FloatTensor(changes).reshape(initial_weights.shape)    \n",
    "                new_weights=new_weights+changes\n",
    "                initial_acc=acc\n",
    "\n",
    "            # end of all epochs\n",
    "            # add to results\n",
    "\n",
    "print(\"Accuracy at the end \",best_acc)            \n",
    "print(\"Best weights\",best_acc_weights)\n",
    "print(\"Best epoch\",best_epoch)\n",
    "\n",
    "print(\"probabs=\",initial_probabs)\n",
    "print(\"changes=\",changes)\n",
    "\n"
   ]
  },
  {
   "cell_type": "code",
   "execution_count": null,
   "metadata": {},
   "outputs": [],
   "source": [
    "\n"
   ]
  },
  {
   "cell_type": "code",
   "execution_count": null,
   "metadata": {},
   "outputs": [],
   "source": [
    "changes"
   ]
  },
  {
   "cell_type": "code",
   "execution_count": null,
   "metadata": {},
   "outputs": [],
   "source": []
  },
  {
   "cell_type": "code",
   "execution_count": null,
   "metadata": {},
   "outputs": [],
   "source": [
    "\n",
    "\n",
    "def evaluate(model, X_test, y_test):\n",
    "    \"\"\"Evaluate the model's performance on the validation set\"\"\"\n",
    "    outputs = [model.validation_step(X_test,y_test)]\n",
    "#     print(\"outputs are \",outputs)\n",
    "    return model.validation_epoch_end(outputs)\n",
    "\n",
    "\n",
    "\n",
    "def correct(output, target, topk=(1,)):\n",
    "    \"\"\"Computes how many correct outputs with respect to targets\n",
    "\n",
    "    Does NOT compute accuracy but just a raw amount of correct\n",
    "    outputs given target labels. This is done for each value in\n",
    "    topk. A value is considered correct if target is in the topk\n",
    "    highest values of output.\n",
    "    The values returned are upperbounded by the given batch size\n",
    "\n",
    "    [description]\n",
    "\n",
    "    Arguments:\n",
    "        output {torch.Tensor} -- Output prediction of the model\n",
    "        target {torch.Tensor} -- Target labels from data\n",
    "\n",
    "    Keyword Arguments:\n",
    "        topk {iterable} -- [Iterable of values of k to consider as correct] (default: {(1,)})\n",
    "\n",
    "    Returns:\n",
    "        List(int) -- Number of correct values for each topk\n",
    "    \"\"\"\n",
    "\n",
    "    with torch.no_grad():\n",
    "        maxk = max(topk)\n",
    "        # Only need to do topk for highest k, reuse for the rest\n",
    "        _, pred = output.topk(k=maxk, dim=1, largest=True, sorted=True)\n",
    "        pred = pred.t()\n",
    "        correct = pred.eq(target.view(1, -1).expand_as(pred))\n",
    "\n",
    "        res = []\n",
    "        for k in topk:\n",
    "            correct_k = correct[:k].reshape(-1).float().sum(0, keepdim=True)\n",
    "            res.append(torch.tensor(correct_k.item()))\n",
    "        return res\n",
    "\n",
    "class PIMANet(nn.Module):\n",
    "    \"\"\"Feedfoward neural network with 1 hidden layer\"\"\"\n",
    "    def __init__(self):\n",
    "        super().__init__()        \n",
    "        self.fc1 = nn.Linear(8, 2)          \n",
    "\n",
    "\n",
    "        \n",
    "    def forward(self, x):\n",
    "        x = x.view(x.shape[0], -1)\n",
    "        x = self.fc1(x)\n",
    "#         x = F.relu(self.fc1(x))\n",
    "        return x\n",
    "        \n",
    "        \n",
    "    \n",
    "    def training_step(self, X_train, y_train):\n",
    "\n",
    "        out = self(X_train)                  # Generate predictions\n",
    "        loss = F.cross_entropy(out, y_train) # Calculate loss\n",
    "        return loss\n",
    "    \n",
    "    def validation_step(self, X_test, y_test):\n",
    "        \n",
    "        out = self(X_test)                    # Generate predictions\n",
    "        loss = F.cross_entropy(out, y_test)   # Calculate loss\n",
    "        acc = accuracy(out, y_test)           # Calculate accuracy\n",
    "        top_1, top_5 = correct(out, y_test,topk=(1,2))\n",
    "#         print(\"Batch is \",batch[1].shape)\n",
    "        \n",
    "        top_1=top_1/X_test.shape[0]\n",
    "        top_5=top_5/X_test.shape[0]\n",
    "\n",
    "#         print(\"corr\",top_1,top_5)\n",
    "#         return {'val_loss': loss, 'val_acc': acc}\n",
    "        return {'val_loss': loss, 'val_acc': acc, 'top_1': top_1, 'top_5': top_5}\n",
    "        \n",
    "    def validation_epoch_end(self, outputs):\n",
    "        batch_losses = [x['val_loss'] for x in outputs]\n",
    "        epoch_loss = torch.stack(batch_losses).mean()   # Combine losses\n",
    "        batch_accs = [x['val_acc'] for x in outputs]\n",
    "        epoch_acc = torch.stack(batch_accs).mean()      # Combine accuracies\n",
    "        \n",
    "        batch_top_1s = [x['top_1'] for x in outputs]\n",
    "#         print(batch_top_1s)\n",
    "        epoch_top_1 = torch.stack(batch_top_1s).mean()      # Combine top_1\n",
    "        \n",
    "        batch_top_5s = [x['top_5'] for x in outputs]\n",
    "        epoch_top_5 = torch.stack(batch_top_5s).mean()      # Combine top_5\n",
    "        \n",
    "        return {'val_loss': epoch_loss.item(), 'val_acc': epoch_acc.item(),\n",
    "               'val_top_1': epoch_top_1.item(), 'val_top_5': epoch_top_5.item()}\n",
    "    \n",
    "    def epoch_end(self, epoch, result):\n",
    "        print(\"Epoch [{}], val_loss: {:.4f}, val_acc: {:.4f}, val_top_1: {:.4f}, val_top_5: {:.4f}\".format(\n",
    "                                epoch, result['val_loss'], result['val_acc'], \n",
    "                                result['val_top_1'], result['val_top_5']))\n",
    "        \n",
    "        \n",
    "\n",
    "        \n",
    "        \n"
   ]
  },
  {
   "cell_type": "code",
   "execution_count": null,
   "metadata": {},
   "outputs": [],
   "source": []
  },
  {
   "cell_type": "code",
   "execution_count": null,
   "metadata": {},
   "outputs": [],
   "source": []
  },
  {
   "cell_type": "code",
   "execution_count": null,
   "metadata": {},
   "outputs": [],
   "source": [
    "def fit(epochs, lr, model, X_train, y_train, X_test, y_test, opt_func=torch.optim.SGD,\n",
    "               model_state_path=None):\n",
    "    print(\"Op tfn is \",opt_func)\n",
    "    \"\"\"Train the model using gradient descent\"\"\"\n",
    "    print(\"At train\")\n",
    "    history = []\n",
    "    best_so_far=-999    \n",
    "    optimizer = opt_func(model.parameters(), lr)\n",
    "    for epoch in range(epochs):\n",
    "        loss = model.training_step(X_train,y_train)\n",
    "#         print(epoch,loss)\n",
    "        loss.backward()\n",
    "        optimizer.step()\n",
    "        optimizer.zero_grad()\n",
    "\n",
    "        # Validation phase\n",
    "        result = evaluate(model, X_test, y_test)\n",
    "        if best_so_far<result[\"val_top_1\"]:\n",
    "            best_so_far=result[\"val_top_1\"]\n",
    "            if model_state_path:\n",
    "                torch.save(model.state_dict(), model_state_path)\n",
    "        \n",
    "        model.epoch_end(epoch, result)\n",
    "        history.append(result)\n",
    "\n",
    "    return history\n"
   ]
  },
  {
   "cell_type": "code",
   "execution_count": null,
   "metadata": {},
   "outputs": [],
   "source": []
  },
  {
   "cell_type": "code",
   "execution_count": null,
   "metadata": {
    "scrolled": true
   },
   "outputs": [],
   "source": [
    "torch.manual_seed(20)\n",
    "model = PIMANet()\n",
    "model.parameters\n",
    "if torch.cuda.is_available():\n",
    "    model=model.cuda()\n",
    "\n",
    "    \n",
    "    \n",
    "\n",
    "print(summary(model, input_size=(1, 8), batch_size=-1))\n",
    "for nm,params in model.named_parameters():\n",
    "    print(nm)\n",
    "    print(params.data)\n",
    "    \n",
    "evaluate(model, X_test, y_test)        \n",
    "\n",
    "\n",
    "epochs=100\n",
    "lr=0.0001\n",
    "model_state_path=\"model_state/mod_CNN.pt\"\n",
    "history2 = fit(epochs, lr, model, X_train, y_train, X_test, y_test , model_state_path=model_state_path)\n"
   ]
  },
  {
   "cell_type": "code",
   "execution_count": null,
   "metadata": {},
   "outputs": [],
   "source": [
    "\n",
    "if torch.cuda.is_available():\n",
    "    model.load_state_dict(torch.load(model_state_path))\n",
    "else:\n",
    "    model.load_state_dict(torch.load(model_state_path,map_location=torch.device('cpu')))\n"
   ]
  },
  {
   "cell_type": "code",
   "execution_count": null,
   "metadata": {},
   "outputs": [],
   "source": [
    "res = evaluate(model, X_test, y_test)\n",
    "print(\"Best Result after training is \",res)\n"
   ]
  },
  {
   "cell_type": "code",
   "execution_count": null,
   "metadata": {},
   "outputs": [],
   "source": [
    "for nm,params in model.named_parameters():\n",
    "    print(nm)\n",
    "    print(params.data)\n"
   ]
  },
  {
   "cell_type": "code",
   "execution_count": null,
   "metadata": {},
   "outputs": [],
   "source": []
  },
  {
   "cell_type": "code",
   "execution_count": null,
   "metadata": {},
   "outputs": [],
   "source": [
    "print(X_train[0],\"\\n\",y_train[0])\n",
    "val=X_train[0:1]\n",
    "out=model(val)\n",
    "print(\"out = \",out)\n",
    "loss = F.cross_entropy(out, y_train[0:1]) \n",
    "print(\"loss=\",loss)"
   ]
  },
  {
   "cell_type": "code",
   "execution_count": null,
   "metadata": {},
   "outputs": [],
   "source": [
    "print(X_train[1],\"\\n\",y_train[1])\n",
    "val=X_train[1:2]\n",
    "out=model(val)\n",
    "print(\"out = \",out)\n",
    "loss = F.cross_entropy(out, y_train[1:2]) \n",
    "print(\"loss=\",loss)"
   ]
  },
  {
   "cell_type": "code",
   "execution_count": null,
   "metadata": {},
   "outputs": [],
   "source": []
  }
 ],
 "metadata": {
  "kernelspec": {
   "display_name": "prune_kernel",
   "language": "python",
   "name": "prune_kernel"
  },
  "language_info": {
   "codemirror_mode": {
    "name": "ipython",
    "version": 3
   },
   "file_extension": ".py",
   "mimetype": "text/x-python",
   "name": "python",
   "nbconvert_exporter": "python",
   "pygments_lexer": "ipython3",
   "version": "3.8.11"
  }
 },
 "nbformat": 4,
 "nbformat_minor": 4
}
